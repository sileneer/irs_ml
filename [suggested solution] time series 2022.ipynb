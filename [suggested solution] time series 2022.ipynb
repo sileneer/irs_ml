{
 "cells": [
  {
   "cell_type": "code",
   "execution_count": 1,
   "metadata": {
    "collapsed": true,
    "pycharm": {
     "name": "#%%\n"
    }
   },
   "outputs": [
    {
     "name": "stdout",
     "output_type": "stream",
     "text": [
      "2.8.0\n"
     ]
    }
   ],
   "source": [
    "import tensorflow as tf\n",
    "import numpy as np\n",
    "import pandas as pd\n",
    "import matplotlib.pyplot as plt\n",
    "from tensorflow.keras.models import Model\n",
    "from tensorflow.keras.layers import *\n",
    "print(tf.__version__)"
   ]
  },
  {
   "cell_type": "code",
   "execution_count": 2,
   "outputs": [
    {
     "data": {
      "text/plain": "         Date  Price\n0  1994-03-21  1.106\n1  1994-03-28  1.107\n2  1994-04-04  1.109\n3  1994-04-11  1.108\n4  1994-04-18  1.105",
      "text/html": "<div>\n<style scoped>\n    .dataframe tbody tr th:only-of-type {\n        vertical-align: middle;\n    }\n\n    .dataframe tbody tr th {\n        vertical-align: top;\n    }\n\n    .dataframe thead th {\n        text-align: right;\n    }\n</style>\n<table border=\"1\" class=\"dataframe\">\n  <thead>\n    <tr style=\"text-align: right;\">\n      <th></th>\n      <th>Date</th>\n      <th>Price</th>\n    </tr>\n  </thead>\n  <tbody>\n    <tr>\n      <th>0</th>\n      <td>1994-03-21</td>\n      <td>1.106</td>\n    </tr>\n    <tr>\n      <th>1</th>\n      <td>1994-03-28</td>\n      <td>1.107</td>\n    </tr>\n    <tr>\n      <th>2</th>\n      <td>1994-04-04</td>\n      <td>1.109</td>\n    </tr>\n    <tr>\n      <th>3</th>\n      <td>1994-04-11</td>\n      <td>1.108</td>\n    </tr>\n    <tr>\n      <th>4</th>\n      <td>1994-04-18</td>\n      <td>1.105</td>\n    </tr>\n  </tbody>\n</table>\n</div>"
     },
     "execution_count": 2,
     "metadata": {},
     "output_type": "execute_result"
    }
   ],
   "source": [
    "# Load the data\n",
    "df = pd.read_csv('datasets/Weekly_U.S.Diesel_Retail_Prices.csv', names=['Date', 'Price'], skiprows=1)  # skip the header row since we define our own headers\n",
    "df.head()"
   ],
   "metadata": {
    "collapsed": false,
    "pycharm": {
     "name": "#%%\n"
    }
   }
  },
  {
   "cell_type": "code",
   "execution_count": 3,
   "outputs": [
    {
     "data": {
      "text/plain": "<Figure size 432x288 with 1 Axes>",
      "image/png": "[encoded data removed]"
     },
     "metadata": {
      "needs_background": "light"
     },
     "output_type": "display_data"
    }
   ],
   "source": [
    "# Plot the data\n",
    "plt.plot(df['Date'], df['Price'])\n",
    "plt.xlabel('Date')\n",
    "plt.ylabel('Price')\n",
    "plt.title('Weekly U.S. Diesel Retail Prices')\n",
    "plt.show()"
   ],
   "metadata": {
    "collapsed": false,
    "pycharm": {
     "name": "#%%\n"
    }
   }
  },
  {
   "cell_type": "code",
   "execution_count": 4,
   "outputs": [
    {
     "data": {
      "text/plain": "array([[0.03211587],\n       [0.03232578],\n       [0.03274559],\n       [0.03253568],\n       [0.03190596],\n       [0.03211587],\n       [0.03169605],\n       [0.03106633],\n       [0.03064652],\n       [0.03064652]])"
     },
     "execution_count": 4,
     "metadata": {},
     "output_type": "execute_result"
    }
   ],
   "source": [
    "df.drop('Date', axis=1, inplace=True)  # not needed anymore\n",
    "data = df.values  # get the values as numpy array\n",
    "\n",
    "def normalize(data, min, max):  # https://en.wikipedia.org/wiki/Feature_scaling\n",
    "    data = data - min  # Take note that operations like - and / here are all element-wise across 2 lists. This is a Numpy array feature, NOT a python list feature. If you pass in data as a python list, it will give error!\n",
    "    data = data / max\n",
    "    return data\n",
    "\n",
    "data_normed = normalize(data, data.min(axis=0), data.max(axis=0))\n",
    "data_normed[:10]"
   ],
   "metadata": {
    "collapsed": false,
    "pycharm": {
     "name": "#%%\n"
    }
   }
  },
  {
   "cell_type": "code",
   "execution_count": 5,
   "outputs": [],
   "source": [
    "split = int(0.8 * len(data_normed))\n",
    "train, val = data_normed[:split], data_normed[split:]\n",
    "\n",
    "def windowed_dataset(series, batch_size, n_past=10, n_future=10, shift=1):\n",
    "    \"\"\"\n",
    "    Series: an iterable\n",
    "    batch_size: number of samples per batch\n",
    "    n_past: number of timesteps to look back (x or input to the model)\n",
    "    n_future: number of timesteps to predict (y or output of the model)\n",
    "    shift: number of timesteps to shift the window by, usually 1 if we want to maximize the use of data\n",
    "    \"\"\"\n",
    "    ds = tf.data.Dataset.from_tensor_slices(series)\n",
    "    ds = ds.window(size=n_past + n_future, shift=shift, drop_remainder=True)\n",
    "    ds = ds.flat_map(lambda w: w.batch(n_past + n_future))\n",
    "    ds = ds.map(lambda w: (w[:n_past], w[n_past:]))  # taking the past as x, future as y, split by n_past\n",
    "    return ds.batch(batch_size).prefetch(1)\n",
    "\n",
    "\n",
    "batch_size = 32  # explore how changing this affects the model (hint: it is not as simple as larger batch size = better performance, like in image tasks!)\n",
    "n_past = 10\n",
    "n_future = 10\n",
    "shift = 1  # usually we keep it 1\n",
    "\n",
    "train_ds = windowed_dataset(series=train, batch_size=batch_size, n_past=n_past, n_future=n_future, shift=shift)\n",
    "valid_ds = windowed_dataset(series=val, batch_size=batch_size, n_past=n_past, n_future=n_future, shift=shift)"
   ],
   "metadata": {
    "collapsed": false,
    "pycharm": {
     "name": "#%%\n"
    }
   }
  },
  {
   "cell_type": "code",
   "execution_count": 6,
   "outputs": [
    {
     "name": "stdout",
     "output_type": "stream",
     "text": [
      "Model: \"model\"\n",
      "_________________________________________________________________\n",
      " Layer (type)                Output Shape              Param #   \n",
      "=================================================================\n",
      " input_1 (InputLayer)        [(None, 10, 1)]           0         \n",
      "                                                                 \n",
      " lstm (LSTM)                 (None, 10, 32)            4352      \n",
      "                                                                 \n",
      " lstm_1 (LSTM)               (None, 32)                8320      \n",
      "                                                                 \n",
      " dense (Dense)               (None, 10)                330       \n",
      "                                                                 \n",
      "=================================================================\n",
      "Total params: 13,002\n",
      "Trainable params: 13,002\n",
      "Non-trainable params: 0\n",
      "_________________________________________________________________\n"
     ]
    }
   ],
   "source": [
    "# Model V1\n",
    "\n",
    "xIn = Input((n_past, 1))  # 2D input, where first dimension is number of timesteps to look back, 2nd dimension is number of features or columns of data (yes you can input multiple time series at once). Remember that the batch size dimension is always omitted in Input() so don't be surprised if model.summary() tells you input is 3D.\n",
    "x = LSTM(32, return_sequences=True)(xIn)  # LSTM layer with 32 cells. Return sequences = True is needed if you are connecting another RNN after this layer, since an RNN expects sequences as input. If return sequences is False, it only return the features of the last step.\n",
    "x = LSTM(32)(x)  # return sequences is False by default so no need to specify it here\n",
    "xOut = Dense(n_future)(x)  # dense layer with the same number of neurons as the number of timesteps to predict. Each neuron output the predicted price for a timestep in future.\n",
    "\n",
    "model = Model(inputs=xIn, outputs=xOut)\n",
    "model.compile(loss='mse', optimizer='adam', metrics='mse')  # for numbers based time series tasks, it is the same as a regression problem, so we use mse or mae or any regression loss\n",
    "model.summary()"
   ],
   "metadata": {
    "collapsed": false,
    "pycharm": {
     "name": "#%%\n"
    }
   }
  },
  {
   "cell_type": "code",
   "execution_count": 7,
   "outputs": [
    {
     "name": "stdout",
     "output_type": "stream",
     "text": [
      "Model: \"model_1\"\n",
      "_________________________________________________________________\n",
      " Layer (type)                Output Shape              Param #   \n",
      "=================================================================\n",
      " input_2 (InputLayer)        [(None, 10, 1)]           0         \n",
      "                                                                 \n",
      " lstm_2 (LSTM)               (None, 10, 32)            4352      \n",
      "                                                                 \n",
      " lstm_3 (LSTM)               (None, 10, 32)            8320      \n",
      "                                                                 \n",
      " dense_1 (Dense)             (None, 10, 32)            1056      \n",
      "                                                                 \n",
      " flatten (Flatten)           (None, 320)               0         \n",
      "                                                                 \n",
      " dense_2 (Dense)             (None, 64)                20544     \n",
      "                                                                 \n",
      " dense_3 (Dense)             (None, 10)                650       \n",
      "                                                                 \n",
      "=================================================================\n",
      "Total params: 34,922\n",
      "Trainable params: 34,922\n",
      "Non-trainable params: 0\n",
      "_________________________________________________________________\n"
     ]
    }
   ],
   "source": [
    "# Model V2: LSTM that returns sequence to dense layer and dense layer gathers all the time axis features. You will realise that this actually perform a bit better than V1.\n",
    "\n",
    "xIn = Input((n_past, 1))  # 2D input, where first dimension is number of timesteps to look back, 2nd dimension is number of features or columns of data (yes you can input multiple time series at once). Remember that the batch size dimension is always omitted in Input() so don't be surprised if model.summary() tells you input is 3D.\n",
    "x = LSTM(32, return_sequences=True)(xIn)  # LSTM layer with 32 cells. Return sequences = True is needed if you are connecting another RNN after this layer, since an RNN expects sequences as input. If return sequences is False, it only return the features of the last step.\n",
    "x = LSTM(32, return_sequences=True)(x)  # return sequences is False by default so no need to specify it here\n",
    "x = Dense(32, activation='swish')(x)  # this dense layer receives a 2D input of (10, 32). We can choose to do a Flatten() or GlobalAvgPool2D() before of after this layer. Dense layers can accept 2D inputs and output as 2D but because our final output is supposed to be 1D (1 x 10), so we have to do Flatten or GlobalAvgPool2D() before that output layer.\n",
    "x = Flatten()(x)  # flatten the output of the previous layer to 1D\n",
    "x = Dense(64, activation='swish')(x)\n",
    "xOut = Dense(n_future)(x)  # dense layer with the same number of neurons as the number of timesteps to predict. Each neuron output the predicted price for a timestep in future.\n",
    "\n",
    "model = Model(inputs=xIn, outputs=xOut)\n",
    "model.compile(loss='mse', optimizer='adam', metrics='mse')  # for numbers based time series tasks, it is the same as a regression problem, so we use mse or mae or any regression loss\n",
    "model.summary()"
   ],
   "metadata": {
    "collapsed": false,
    "pycharm": {
     "name": "#%%\n"
    }
   }
  },
  {
   "cell_type": "code",
   "execution_count": 8,
   "outputs": [
    {
     "name": "stdout",
     "output_type": "stream",
     "text": [
      "Epoch 1/100\n",
      "35/35 [==============================] - 6s 40ms/step - loss: 0.0079 - mse: 0.0079 - val_loss: 0.0100 - val_mse: 0.0100\n",
      "Epoch 2/100\n",
      "35/35 [==============================] - 0s 13ms/step - loss: 0.0502 - mse: 0.0502 - val_loss: 0.0421 - val_mse: 0.0421\n",
      "Epoch 3/100\n",
      "35/35 [==============================] - 1s 14ms/step - loss: 0.0221 - mse: 0.0221 - val_loss: 0.0025 - val_mse: 0.0025\n",
      "Epoch 4/100\n",
      "35/35 [==============================] - 0s 13ms/step - loss: 0.0080 - mse: 0.0080 - val_loss: 0.0047 - val_mse: 0.0047\n",
      "Epoch 5/100\n",
      "35/35 [==============================] - 0s 14ms/step - loss: 0.0082 - mse: 0.0082 - val_loss: 0.0051 - val_mse: 0.0051\n",
      "Epoch 6/100\n",
      "35/35 [==============================] - 0s 13ms/step - loss: 0.0061 - mse: 0.0061 - val_loss: 0.0050 - val_mse: 0.0050\n",
      "Epoch 7/100\n",
      "35/35 [==============================] - 0s 12ms/step - loss: 0.0053 - mse: 0.0053 - val_loss: 0.0053 - val_mse: 0.0053\n",
      "Epoch 8/100\n",
      "35/35 [==============================] - 0s 13ms/step - loss: 0.0047 - mse: 0.0047 - val_loss: 0.0056 - val_mse: 0.0056\n",
      "Epoch 9/100\n",
      "35/35 [==============================] - 0s 14ms/step - loss: 0.0043 - mse: 0.0043 - val_loss: 0.0057 - val_mse: 0.0057\n",
      "Epoch 10/100\n",
      "35/35 [==============================] - 0s 13ms/step - loss: 0.0041 - mse: 0.0041 - val_loss: 0.0057 - val_mse: 0.0057\n",
      "Epoch 11/100\n",
      "35/35 [==============================] - 1s 14ms/step - loss: 0.0039 - mse: 0.0039 - val_loss: 0.0057 - val_mse: 0.0057\n",
      "Epoch 12/100\n",
      "35/35 [==============================] - 0s 13ms/step - loss: 0.0038 - mse: 0.0038 - val_loss: 0.0056 - val_mse: 0.0056\n",
      "Epoch 13/100\n",
      "35/35 [==============================] - 0s 13ms/step - loss: 0.0038 - mse: 0.0038 - val_loss: 0.0056 - val_mse: 0.0056\n",
      "Epoch 14/100\n",
      "35/35 [==============================] - 0s 13ms/step - loss: 0.0039 - mse: 0.0039 - val_loss: 0.0057 - val_mse: 0.0057\n",
      "Epoch 15/100\n",
      "35/35 [==============================] - 0s 13ms/step - loss: 0.0040 - mse: 0.0040 - val_loss: 0.0059 - val_mse: 0.0059\n",
      "Epoch 16/100\n",
      "35/35 [==============================] - 0s 14ms/step - loss: 0.0041 - mse: 0.0041 - val_loss: 0.0062 - val_mse: 0.0062\n",
      "Epoch 17/100\n",
      "35/35 [==============================] - 1s 17ms/step - loss: 0.0042 - mse: 0.0042 - val_loss: 0.0065 - val_mse: 0.0065\n",
      "Epoch 18/100\n",
      "35/35 [==============================] - 0s 14ms/step - loss: 0.0043 - mse: 0.0043 - val_loss: 0.0068 - val_mse: 0.0068\n",
      "Epoch 19/100\n",
      "35/35 [==============================] - 1s 14ms/step - loss: 0.0043 - mse: 0.0043 - val_loss: 0.0068 - val_mse: 0.0068\n",
      "Epoch 20/100\n",
      "35/35 [==============================] - 0s 13ms/step - loss: 0.0042 - mse: 0.0042 - val_loss: 0.0068 - val_mse: 0.0068\n",
      "Epoch 21/100\n",
      "35/35 [==============================] - 0s 13ms/step - loss: 0.0040 - mse: 0.0040 - val_loss: 0.0066 - val_mse: 0.0066\n",
      "Epoch 22/100\n",
      "35/35 [==============================] - 1s 14ms/step - loss: 0.0039 - mse: 0.0039 - val_loss: 0.0063 - val_mse: 0.0063\n",
      "Epoch 23/100\n",
      "35/35 [==============================] - 0s 13ms/step - loss: 0.0038 - mse: 0.0038 - val_loss: 0.0061 - val_mse: 0.0061\n",
      "Epoch 24/100\n",
      "35/35 [==============================] - 0s 14ms/step - loss: 0.0038 - mse: 0.0038 - val_loss: 0.0062 - val_mse: 0.0062\n",
      "Epoch 25/100\n",
      "35/35 [==============================] - 0s 14ms/step - loss: 0.0039 - mse: 0.0039 - val_loss: 0.0063 - val_mse: 0.0063\n",
      "Epoch 26/100\n",
      "35/35 [==============================] - 0s 13ms/step - loss: 0.0041 - mse: 0.0041 - val_loss: 0.0066 - val_mse: 0.0066\n",
      "Epoch 27/100\n",
      "35/35 [==============================] - 0s 14ms/step - loss: 0.0041 - mse: 0.0041 - val_loss: 0.0068 - val_mse: 0.0068\n",
      "Epoch 28/100\n",
      "35/35 [==============================] - 0s 13ms/step - loss: 0.0041 - mse: 0.0041 - val_loss: 0.0068 - val_mse: 0.0068\n",
      "Epoch 29/100\n",
      "35/35 [==============================] - 0s 12ms/step - loss: 0.0040 - mse: 0.0040 - val_loss: 0.0066 - val_mse: 0.0066\n",
      "Epoch 30/100\n",
      "35/35 [==============================] - 0s 12ms/step - loss: 0.0039 - mse: 0.0039 - val_loss: 0.0064 - val_mse: 0.0064\n",
      "Epoch 31/100\n",
      "35/35 [==============================] - 0s 14ms/step - loss: 0.0038 - mse: 0.0038 - val_loss: 0.0062 - val_mse: 0.0062\n",
      "Epoch 32/100\n",
      "35/35 [==============================] - 0s 13ms/step - loss: 0.0038 - mse: 0.0038 - val_loss: 0.0061 - val_mse: 0.0061\n",
      "Epoch 33/100\n",
      "35/35 [==============================] - 0s 13ms/step - loss: 0.0038 - mse: 0.0038 - val_loss: 0.0060 - val_mse: 0.0060\n",
      "Epoch 34/100\n",
      "35/35 [==============================] - 0s 13ms/step - loss: 0.0038 - mse: 0.0038 - val_loss: 0.0060 - val_mse: 0.0060\n",
      "Epoch 35/100\n",
      "35/35 [==============================] - 0s 14ms/step - loss: 0.0038 - mse: 0.0038 - val_loss: 0.0060 - val_mse: 0.0060\n",
      "Epoch 36/100\n",
      "35/35 [==============================] - 0s 13ms/step - loss: 0.0037 - mse: 0.0037 - val_loss: 0.0060 - val_mse: 0.0060\n",
      "Epoch 37/100\n",
      "35/35 [==============================] - 0s 12ms/step - loss: 0.0037 - mse: 0.0037 - val_loss: 0.0060 - val_mse: 0.0060\n",
      "Epoch 38/100\n",
      "35/35 [==============================] - 0s 13ms/step - loss: 0.0037 - mse: 0.0037 - val_loss: 0.0060 - val_mse: 0.0060\n",
      "Epoch 39/100\n",
      "35/35 [==============================] - 0s 13ms/step - loss: 0.0036 - mse: 0.0036 - val_loss: 0.0059 - val_mse: 0.0059\n",
      "Epoch 40/100\n",
      "35/35 [==============================] - 0s 13ms/step - loss: 0.0036 - mse: 0.0036 - val_loss: 0.0059 - val_mse: 0.0059\n",
      "Epoch 41/100\n",
      "35/35 [==============================] - 0s 13ms/step - loss: 0.0036 - mse: 0.0036 - val_loss: 0.0058 - val_mse: 0.0058\n",
      "Epoch 42/100\n",
      "35/35 [==============================] - 0s 13ms/step - loss: 0.0036 - mse: 0.0036 - val_loss: 0.0058 - val_mse: 0.0058\n",
      "Epoch 43/100\n",
      "35/35 [==============================] - 0s 13ms/step - loss: 0.0036 - mse: 0.0036 - val_loss: 0.0057 - val_mse: 0.0057\n",
      "Epoch 44/100\n",
      "35/35 [==============================] - 0s 13ms/step - loss: 0.0036 - mse: 0.0036 - val_loss: 0.0057 - val_mse: 0.0057\n",
      "Epoch 45/100\n",
      "35/35 [==============================] - 0s 12ms/step - loss: 0.0035 - mse: 0.0035 - val_loss: 0.0056 - val_mse: 0.0056\n",
      "Epoch 46/100\n",
      "35/35 [==============================] - 0s 12ms/step - loss: 0.0035 - mse: 0.0035 - val_loss: 0.0056 - val_mse: 0.0056\n",
      "Epoch 47/100\n",
      "35/35 [==============================] - 0s 14ms/step - loss: 0.0034 - mse: 0.0034 - val_loss: 0.0055 - val_mse: 0.0055\n",
      "Epoch 48/100\n",
      "35/35 [==============================] - 0s 12ms/step - loss: 0.0034 - mse: 0.0034 - val_loss: 0.0054 - val_mse: 0.0054\n",
      "Epoch 49/100\n",
      "35/35 [==============================] - 0s 13ms/step - loss: 0.0034 - mse: 0.0034 - val_loss: 0.0054 - val_mse: 0.0054\n",
      "Epoch 50/100\n",
      "35/35 [==============================] - 0s 13ms/step - loss: 0.0034 - mse: 0.0034 - val_loss: 0.0054 - val_mse: 0.0054\n",
      "Epoch 51/100\n",
      "35/35 [==============================] - 0s 13ms/step - loss: 0.0034 - mse: 0.0034 - val_loss: 0.0054 - val_mse: 0.0054\n",
      "Epoch 52/100\n",
      "35/35 [==============================] - 0s 13ms/step - loss: 0.0034 - mse: 0.0034 - val_loss: 0.0054 - val_mse: 0.0054\n",
      "Epoch 53/100\n",
      "35/35 [==============================] - 0s 13ms/step - loss: 0.0033 - mse: 0.0033 - val_loss: 0.0053 - val_mse: 0.0053\n",
      "Epoch 54/100\n",
      "35/35 [==============================] - 0s 14ms/step - loss: 0.0033 - mse: 0.0033 - val_loss: 0.0053 - val_mse: 0.0053\n",
      "Epoch 55/100\n",
      "35/35 [==============================] - 0s 14ms/step - loss: 0.0033 - mse: 0.0033 - val_loss: 0.0053 - val_mse: 0.0053\n",
      "Epoch 56/100\n",
      "35/35 [==============================] - 0s 13ms/step - loss: 0.0033 - mse: 0.0033 - val_loss: 0.0052 - val_mse: 0.0052\n",
      "Epoch 57/100\n",
      "35/35 [==============================] - 0s 13ms/step - loss: 0.0033 - mse: 0.0033 - val_loss: 0.0052 - val_mse: 0.0052\n",
      "Epoch 58/100\n",
      "35/35 [==============================] - 0s 14ms/step - loss: 0.0032 - mse: 0.0032 - val_loss: 0.0052 - val_mse: 0.0052\n",
      "Epoch 59/100\n",
      "35/35 [==============================] - 1s 15ms/step - loss: 0.0032 - mse: 0.0032 - val_loss: 0.0051 - val_mse: 0.0051\n",
      "Epoch 60/100\n",
      "35/35 [==============================] - 0s 13ms/step - loss: 0.0032 - mse: 0.0032 - val_loss: 0.0051 - val_mse: 0.0051\n",
      "Epoch 61/100\n",
      "35/35 [==============================] - 0s 13ms/step - loss: 0.0031 - mse: 0.0031 - val_loss: 0.0050 - val_mse: 0.0050\n",
      "Epoch 62/100\n",
      "35/35 [==============================] - 0s 12ms/step - loss: 0.0031 - mse: 0.0031 - val_loss: 0.0050 - val_mse: 0.0050\n",
      "Epoch 63/100\n",
      "35/35 [==============================] - 0s 12ms/step - loss: 0.0031 - mse: 0.0031 - val_loss: 0.0050 - val_mse: 0.0050\n",
      "Epoch 64/100\n",
      "35/35 [==============================] - 0s 13ms/step - loss: 0.0030 - mse: 0.0030 - val_loss: 0.0049 - val_mse: 0.0049\n",
      "Epoch 65/100\n",
      "35/35 [==============================] - 0s 13ms/step - loss: 0.0030 - mse: 0.0030 - val_loss: 0.0049 - val_mse: 0.0049\n",
      "Epoch 66/100\n",
      "35/35 [==============================] - 0s 12ms/step - loss: 0.0030 - mse: 0.0030 - val_loss: 0.0048 - val_mse: 0.0048\n",
      "Epoch 67/100\n",
      "35/35 [==============================] - 0s 13ms/step - loss: 0.0029 - mse: 0.0029 - val_loss: 0.0048 - val_mse: 0.0048\n",
      "Epoch 68/100\n",
      "35/35 [==============================] - 0s 14ms/step - loss: 0.0029 - mse: 0.0029 - val_loss: 0.0046 - val_mse: 0.0046\n",
      "Epoch 69/100\n",
      "35/35 [==============================] - 0s 14ms/step - loss: 0.0029 - mse: 0.0029 - val_loss: 0.0048 - val_mse: 0.0048\n",
      "Epoch 70/100\n",
      "35/35 [==============================] - 1s 15ms/step - loss: 0.0030 - mse: 0.0030 - val_loss: 0.0049 - val_mse: 0.0049\n",
      "Epoch 71/100\n",
      "35/35 [==============================] - 0s 14ms/step - loss: 0.0030 - mse: 0.0030 - val_loss: 0.0049 - val_mse: 0.0049\n",
      "Epoch 72/100\n",
      "35/35 [==============================] - 0s 13ms/step - loss: 0.0029 - mse: 0.0029 - val_loss: 0.0044 - val_mse: 0.0044\n",
      "Epoch 73/100\n",
      "35/35 [==============================] - 0s 13ms/step - loss: 0.0029 - mse: 0.0029 - val_loss: 0.0049 - val_mse: 0.0049\n",
      "Epoch 74/100\n",
      "35/35 [==============================] - 0s 12ms/step - loss: 0.0028 - mse: 0.0028 - val_loss: 0.0043 - val_mse: 0.0043\n",
      "Epoch 75/100\n",
      "35/35 [==============================] - 0s 13ms/step - loss: 0.0026 - mse: 0.0026 - val_loss: 0.0042 - val_mse: 0.0042\n",
      "Epoch 76/100\n",
      "35/35 [==============================] - 0s 14ms/step - loss: 0.0025 - mse: 0.0025 - val_loss: 0.0037 - val_mse: 0.0037\n",
      "Epoch 77/100\n",
      "35/35 [==============================] - 0s 14ms/step - loss: 0.0024 - mse: 0.0024 - val_loss: 0.0036 - val_mse: 0.0036\n",
      "Epoch 78/100\n",
      "35/35 [==============================] - 0s 13ms/step - loss: 0.0024 - mse: 0.0024 - val_loss: 0.0036 - val_mse: 0.0036\n",
      "Epoch 79/100\n",
      "35/35 [==============================] - 0s 14ms/step - loss: 0.0024 - mse: 0.0024 - val_loss: 0.0036 - val_mse: 0.0036\n",
      "Epoch 80/100\n",
      "35/35 [==============================] - 0s 13ms/step - loss: 0.0024 - mse: 0.0024 - val_loss: 0.0036 - val_mse: 0.0036\n",
      "Epoch 81/100\n",
      "35/35 [==============================] - 0s 14ms/step - loss: 0.0024 - mse: 0.0024 - val_loss: 0.0036 - val_mse: 0.0036\n",
      "Epoch 82/100\n",
      "35/35 [==============================] - 1s 14ms/step - loss: 0.0023 - mse: 0.0023 - val_loss: 0.0036 - val_mse: 0.0036\n",
      "Epoch 83/100\n",
      "35/35 [==============================] - 0s 14ms/step - loss: 0.0023 - mse: 0.0023 - val_loss: 0.0035 - val_mse: 0.0035\n",
      "Epoch 84/100\n",
      "35/35 [==============================] - 1s 14ms/step - loss: 0.0022 - mse: 0.0022 - val_loss: 0.0034 - val_mse: 0.0034\n",
      "Epoch 85/100\n",
      "35/35 [==============================] - 0s 13ms/step - loss: 0.0022 - mse: 0.0022 - val_loss: 0.0033 - val_mse: 0.0033\n",
      "Epoch 86/100\n",
      "35/35 [==============================] - 0s 13ms/step - loss: 0.0021 - mse: 0.0021 - val_loss: 0.0032 - val_mse: 0.0032\n",
      "Epoch 87/100\n",
      "35/35 [==============================] - 0s 13ms/step - loss: 0.0021 - mse: 0.0021 - val_loss: 0.0031 - val_mse: 0.0031\n",
      "Epoch 88/100\n",
      "35/35 [==============================] - 0s 13ms/step - loss: 0.0021 - mse: 0.0021 - val_loss: 0.0031 - val_mse: 0.0031\n",
      "Epoch 89/100\n",
      "35/35 [==============================] - 0s 13ms/step - loss: 0.0021 - mse: 0.0021 - val_loss: 0.0031 - val_mse: 0.0031\n",
      "Epoch 90/100\n",
      "35/35 [==============================] - 0s 14ms/step - loss: 0.0021 - mse: 0.0021 - val_loss: 0.0030 - val_mse: 0.0030\n",
      "Epoch 91/100\n",
      "35/35 [==============================] - 0s 13ms/step - loss: 0.0021 - mse: 0.0021 - val_loss: 0.0030 - val_mse: 0.0030\n",
      "Epoch 92/100\n",
      "35/35 [==============================] - 0s 13ms/step - loss: 0.0020 - mse: 0.0020 - val_loss: 0.0030 - val_mse: 0.0030\n",
      "Epoch 93/100\n",
      "35/35 [==============================] - 0s 13ms/step - loss: 0.0020 - mse: 0.0020 - val_loss: 0.0029 - val_mse: 0.0029\n",
      "Epoch 94/100\n",
      "35/35 [==============================] - 0s 13ms/step - loss: 0.0020 - mse: 0.0020 - val_loss: 0.0028 - val_mse: 0.0028\n",
      "Epoch 95/100\n",
      "35/35 [==============================] - 0s 13ms/step - loss: 0.0020 - mse: 0.0020 - val_loss: 0.0028 - val_mse: 0.0028\n",
      "Epoch 96/100\n",
      "35/35 [==============================] - 0s 13ms/step - loss: 0.0020 - mse: 0.0020 - val_loss: 0.0028 - val_mse: 0.0028\n",
      "Epoch 97/100\n",
      "35/35 [==============================] - 0s 14ms/step - loss: 0.0020 - mse: 0.0020 - val_loss: 0.0028 - val_mse: 0.0028\n",
      "Epoch 98/100\n",
      "35/35 [==============================] - 0s 14ms/step - loss: 0.0020 - mse: 0.0020 - val_loss: 0.0027 - val_mse: 0.0027\n",
      "Epoch 99/100\n",
      "35/35 [==============================] - 0s 14ms/step - loss: 0.0020 - mse: 0.0020 - val_loss: 0.0027 - val_mse: 0.0027\n",
      "Epoch 100/100\n",
      "35/35 [==============================] - 0s 14ms/step - loss: 0.0019 - mse: 0.0019 - val_loss: 0.0027 - val_mse: 0.0027\n"
     ]
    },
    {
     "data": {
      "text/plain": "<keras.callbacks.History at 0x29720c0cbe0>"
     },
     "execution_count": 8,
     "metadata": {},
     "output_type": "execute_result"
    }
   ],
   "source": [
    "model.fit(train_ds, epochs=100, validation_data=valid_ds)"
   ],
   "metadata": {
    "collapsed": false,
    "pycharm": {
     "name": "#%%\n"
    }
   }
  },
  {
   "cell_type": "code",
   "execution_count": 9,
   "outputs": [
    {
     "data": {
      "text/plain": "array([0.24924956, 0.2557099 , 0.24241053, 0.26242197, 0.26721087,\n       0.2666927 , 0.26800627, 0.2731071 , 0.2538875 , 0.2716127 ],\n      dtype=float32)"
     },
     "execution_count": 9,
     "metadata": {},
     "output_type": "execute_result"
    }
   ],
   "source": [
    "# Make some predictions\n",
    "preds = model.predict(valid_ds)\n",
    "preds[0]  # because our model predicts 10 steps into the future each time, we see a 1 x 10 array"
   ],
   "metadata": {
    "collapsed": false,
    "pycharm": {
     "name": "#%%\n"
    }
   }
  },
  {
   "cell_type": "code",
   "execution_count": 10,
   "outputs": [
    {
     "data": {
      "text/plain": "array([2.14042492, 2.1712019 , 2.10784374, 2.20317824, 2.22599259,\n       2.22352401, 2.22978185, 2.25408228, 2.16252007, 2.24696292])"
     },
     "execution_count": 10,
     "metadata": {},
     "output_type": "execute_result"
    }
   ],
   "source": [
    "def unnormalize(data, min, max):  # https://en.wikipedia.org/wiki/Feature_scaling\n",
    "    data = data * max\n",
    "    data = data + min\n",
    "    return data\n",
    "\n",
    "preds_unnormed = unnormalize(preds, data.min(axis=0), data.max(axis=0))  # remember when we did normalization we used entire data's min and max so here we also need to\n",
    "preds_unnormed[0]"
   ],
   "metadata": {
    "collapsed": false,
    "pycharm": {
     "name": "#%%\n"
    }
   }
  },
  {
   "cell_type": "code",
   "execution_count": 11,
   "outputs": [
    {
     "name": "stdout",
     "output_type": "stream",
     "text": [
      "(266, 10)\n",
      "[2.14042492 2.18632173 2.22979235 2.26487944 2.29505437 2.31906743\n",
      " 2.34579371 2.37230304 2.40126618 2.4461421  2.49612484 2.54355381\n",
      " 2.58209551 2.60858411 2.6257632  2.63202075 2.63461015 2.62335979\n",
      " 2.60184015 2.57772514 2.54696328 2.51532186 2.49744211 2.49662204\n",
      " 2.51069961 2.53190989 2.55342556 2.57183702 2.58409102 2.59351894\n",
      " 2.60286125 2.61267337 2.63165814 2.65350093 2.66611882 2.66475753\n",
      " 2.6497916  2.63374948 2.62434086 2.63474588 2.66054617 2.69646014\n",
      " 2.73910757 2.77731364 2.79813106 2.7998189  2.78694573 2.7762931\n",
      " 2.7629108  2.75429925 2.74846451 2.75079465 2.75175244 2.74662106\n",
      " 2.7395778  2.73750464 2.74202267 2.75197904 2.76323309 2.77178586\n",
      " 2.77408818 2.76697052 2.75476806 2.74177932 2.72904586 2.71361083\n",
      " 2.69473965 2.67602464 2.66054248 2.64906467 2.64311209 2.64821962\n",
      " 2.67655536 2.7180999  2.7570434  2.78726546 2.82722723 2.88394812\n",
      " 2.94293753 2.9895152  3.02049145 3.03596141 3.04333831 3.0373278\n",
      " 3.0212587  3.00843494 3.03299406 3.07057656 3.10544102 3.13296805\n",
      " 3.15042968 3.15124122 3.14121898 3.13389205 3.13689035 3.15948874\n",
      " 3.19045562 3.22400963 3.26145327 3.2901255  3.29724997 3.28188593\n",
      " 3.24955805 3.21962506 3.18825808 3.16873635 3.16250152 3.17778378\n",
      " 3.21272747 3.25744892 3.30387581 3.34701704 3.38932713 3.43002747\n",
      " 3.46506487 3.4931689  3.50785683 3.50087037 3.48408712 3.45980968\n",
      " 3.43503561 3.4111526  3.39829987 3.3943773  3.39603986 3.40013764\n",
      " 3.40023646 3.39861024 3.3982729  3.40841895 3.42418649 3.44060059\n",
      " 3.45830897 3.4899335  3.52777241 3.55914705 3.57338576 3.57373304\n",
      " 3.5631142  3.53656966 3.49704661 3.44422189 3.38876802 3.34246891\n",
      " 3.29700804 3.25251489 3.20936627 3.17008515 3.1388735  3.11743222\n",
      " 3.11098386 3.1118698  3.12427387 3.15169357 3.19007001 3.23227248\n",
      " 3.26658266 3.28864041 3.30109957 3.30667846 3.30872948 3.31069275\n",
      " 3.3223557  3.34179764 3.36111861 3.37425727 3.37655988 3.37021998\n",
      " 3.35038306 3.31953885 3.28298229 3.2497199  3.22703064 3.21402203\n",
      " 3.20701966 3.20709661 3.21108109 3.2149747  3.2121198  3.20046537\n",
      " 3.1829197  3.16652717 3.15874279 3.1706948  3.19652122 3.22373334\n",
      " 3.24783046 3.26371555 3.27397945 3.27746814 3.27388091 3.2659307\n",
      " 3.25705365 3.26470003 3.26589265 3.25910296 3.24993458 3.24332492\n",
      " 3.24491877 3.24791593 3.24873969 3.2426474  3.22305156 3.19110759\n",
      " 3.14597951 3.09933539 3.05430613 3.0179208  2.9807966  2.93500265\n",
      " 2.87746113 2.8141641  2.74517885 2.67784651 2.61959964 2.57550034\n",
      " 2.54583086 2.53209531 2.52547061 2.52401675 2.52547657 2.53481377\n",
      " 2.55082423 2.57214539 2.59154928 2.60509912 2.61558279 2.62003821\n",
      " 2.62015052 2.6154286  2.60978553 2.60346764 2.60253641 2.60380427\n",
      " 2.60544299 2.60352656 2.59642197 2.58515997 2.57350072 2.56341657\n",
      " 2.55478316 2.54666342 2.54493242 2.55420076 2.57428075 2.60344408\n",
      " 2.63936983 2.68006676 2.73013227 2.78091449 2.8240509  2.85507542\n",
      " 2.87812218 2.90336308 2.92412882 2.94973147 2.98572864 3.04127111\n",
      " 3.12433947 3.22104995 3.31742139 3.40158525 3.45604243 3.4734237\n",
      " 3.45518858 3.41631691]\n",
      "(266,)\n"
     ]
    }
   ],
   "source": [
    "print(preds_unnormed.shape)\n",
    "''''\n",
    "(266, 10) means that we have 266 predictions, each is 10 steps into the future. E.g. the model is given 266 samples of input, and for each of them, it output the next 10 timesteps of prediction. However, because our shift size is 1, there will be an overlap of results. E.g. ABCDE -> FGHIJ, BCDEF -> GHIJK. You can see here that GHIJ is repeated. Therefore, we can only take the first timestep predicted and ignore the rest. E.g. we take F from 1st prediction, G from 2nd and so on. Btw, G in 1st pred may NOT be same value as G in 2nd pred because the model is receiving different input each time which affects ALL of its outputs. Here I use the same letter for simplicity’s sake but take note in real data it will likely to be slightly different.\n",
    "'''\n",
    "print(preds_unnormed[:, 0])  # to select the first element (first predicted timestep in this context), we use [:, 0]. This is how to access multiple dimension numpy arrays. The first : means take all values from the first dimension, the 0 means take only the 0th value in the 2nd dimension. This give us a 1D array of length 266.\n",
    "print(preds_unnormed[:, 0].shape)  # (266,)"
   ],
   "metadata": {
    "collapsed": false,
    "pycharm": {
     "name": "#%%\n"
    }
   }
  },
  {
   "cell_type": "code",
   "execution_count": 12,
   "outputs": [
    {
     "data": {
      "text/plain": "<Figure size 432x288 with 1 Axes>",
      "image/png": "[encoded data removed]"
     },
     "metadata": {
      "needs_background": "light"
     },
     "output_type": "display_data"
    }
   ],
   "source": [
    "# Plot the predictions\n",
    "plt.plot(unnormalize(val, data.min(axis=0), data.max(axis=0)), label='actual')  # our val was taken as subset of the normaized data so we need to unnormalize it here\n",
    "plt.plot(preds_unnormed[:, 0], label='prediction')\n",
    "plt.legend()\n",
    "plt.title('Weekly U.S. Diesel Retail Prices')\n",
    "plt.show()"
   ],
   "metadata": {
    "collapsed": false,
    "pycharm": {
     "name": "#%%\n"
    }
   }
  }
 ],
 "metadata": {
  "kernelspec": {
   "display_name": "Python 3",
   "language": "python",
   "name": "python3"
  },
  "language_info": {
   "codemirror_mode": {
    "name": "ipython",
    "version": 2
   },
   "file_extension": ".py",
   "mimetype": "text/x-python",
   "name": "python",
   "nbconvert_exporter": "python",
   "pygments_lexer": "ipython2",
   "version": "2.7.6"
  }
 },
 "nbformat": 4,
 "nbformat_minor": 0
}