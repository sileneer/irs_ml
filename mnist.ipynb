{
 "cells": [
  {
   "cell_type": "code",
   "execution_count": 4,
   "outputs": [],
   "source": [
    "import tensorflow.compat.v1 as tf"
   ],
   "metadata": {
    "collapsed": false,
    "pycharm": {
     "name": "#%%\n"
    }
   }
  },
  {
   "cell_type": "code",
   "execution_count": 5,
   "outputs": [],
   "source": [
    "(x_train, y_train), (x_test, y_test) = tf.keras.datasets.mnist.load_data()\n",
    "x_train = x_train / 255.0\n",
    "x_test = x_test / 255.0"
   ],
   "metadata": {
    "collapsed": false,
    "pycharm": {
     "name": "#%%\n"
    }
   }
  },
  {
   "cell_type": "code",
   "execution_count": 6,
   "outputs": [],
   "source": [
    "model = tf.keras.models.Sequential()\n",
    "model.add(tf.keras.layers.Flatten())\n",
    "model.add(tf.keras.layers.Dense(128, activation=\"relu\"))\n",
    "model.add(tf.keras.layers.Dropout(0.2))\n",
    "model.add(tf.keras.layers.Dense(10, activation='softmax'))\n",
    "\n",
    "model.compile(\n",
    "    optimizer=tf.keras.optimizers.Adam(),\n",
    "    loss=tf.keras.losses.SparseCategoricalCrossentropy(),\n",
    "    metrics=['accuracy']\n",
    ")"
   ],
   "metadata": {
    "collapsed": false,
    "pycharm": {
     "name": "#%%\n"
    }
   }
  },
  {
   "cell_type": "code",
   "execution_count": 7,
   "outputs": [
    {
     "name": "stdout",
     "output_type": "stream",
     "text": [
      "Epoch 1/100\n",
      "1875/1875 [==============================] - 5s 2ms/step - loss: 0.3002 - accuracy: 0.9116\n",
      "Epoch 2/100\n",
      "1875/1875 [==============================] - 4s 2ms/step - loss: 0.1436 - accuracy: 0.9577\n",
      "Epoch 3/100\n",
      "1875/1875 [==============================] - 4s 2ms/step - loss: 0.1060 - accuracy: 0.9671\n",
      "Epoch 4/100\n",
      "1875/1875 [==============================] - 4s 2ms/step - loss: 0.0871 - accuracy: 0.9729\n",
      "Epoch 5/100\n",
      "1875/1875 [==============================] - 4s 2ms/step - loss: 0.0747 - accuracy: 0.9766\n",
      "Epoch 6/100\n",
      "1875/1875 [==============================] - 4s 2ms/step - loss: 0.0659 - accuracy: 0.9792\n",
      "Epoch 7/100\n",
      "1875/1875 [==============================] - 4s 2ms/step - loss: 0.0576 - accuracy: 0.9812\n",
      "Epoch 8/100\n",
      "1875/1875 [==============================] - 4s 2ms/step - loss: 0.0513 - accuracy: 0.9833\n",
      "Epoch 9/100\n",
      "1875/1875 [==============================] - 4s 2ms/step - loss: 0.0480 - accuracy: 0.9842\n",
      "Epoch 10/100\n",
      "1875/1875 [==============================] - 5s 2ms/step - loss: 0.0431 - accuracy: 0.9854\n",
      "Epoch 11/100\n",
      "1875/1875 [==============================] - 5s 3ms/step - loss: 0.0412 - accuracy: 0.9861\n",
      "Epoch 12/100\n",
      "1875/1875 [==============================] - 5s 3ms/step - loss: 0.0375 - accuracy: 0.9873\n",
      "Epoch 13/100\n",
      "1875/1875 [==============================] - 4s 2ms/step - loss: 0.0355 - accuracy: 0.9881\n",
      "Epoch 14/100\n",
      "1875/1875 [==============================] - 4s 2ms/step - loss: 0.0343 - accuracy: 0.9885\n",
      "Epoch 15/100\n",
      "1875/1875 [==============================] - 4s 2ms/step - loss: 0.0316 - accuracy: 0.9890\n",
      "Epoch 16/100\n",
      "1875/1875 [==============================] - 4s 2ms/step - loss: 0.0309 - accuracy: 0.9896\n",
      "Epoch 17/100\n",
      "1875/1875 [==============================] - 4s 2ms/step - loss: 0.0280 - accuracy: 0.9899\n",
      "Epoch 18/100\n",
      "1875/1875 [==============================] - 4s 2ms/step - loss: 0.0294 - accuracy: 0.9896\n",
      "Epoch 19/100\n",
      "1875/1875 [==============================] - 5s 3ms/step - loss: 0.0263 - accuracy: 0.9909\n",
      "Epoch 20/100\n",
      "1875/1875 [==============================] - 5s 2ms/step - loss: 0.0270 - accuracy: 0.9908\n",
      "Epoch 21/100\n",
      "1875/1875 [==============================] - 4s 2ms/step - loss: 0.0240 - accuracy: 0.9920\n",
      "Epoch 22/100\n",
      "1875/1875 [==============================] - 4s 2ms/step - loss: 0.0251 - accuracy: 0.9912\n",
      "Epoch 23/100\n",
      "1875/1875 [==============================] - 4s 2ms/step - loss: 0.0239 - accuracy: 0.9917\n",
      "Epoch 24/100\n",
      "1875/1875 [==============================] - 4s 2ms/step - loss: 0.0204 - accuracy: 0.9930\n",
      "Epoch 25/100\n",
      "1875/1875 [==============================] - 4s 2ms/step - loss: 0.0249 - accuracy: 0.9915\n",
      "Epoch 26/100\n",
      "1875/1875 [==============================] - 4s 2ms/step - loss: 0.0219 - accuracy: 0.9923\n",
      "Epoch 27/100\n",
      "1875/1875 [==============================] - 4s 2ms/step - loss: 0.0223 - accuracy: 0.9924\n",
      "Epoch 28/100\n",
      "1875/1875 [==============================] - 4s 2ms/step - loss: 0.0204 - accuracy: 0.9928\n",
      "Epoch 29/100\n",
      "1875/1875 [==============================] - 4s 2ms/step - loss: 0.0190 - accuracy: 0.9931\n",
      "Epoch 30/100\n",
      "1875/1875 [==============================] - 4s 2ms/step - loss: 0.0204 - accuracy: 0.9929\n",
      "Epoch 31/100\n",
      "1875/1875 [==============================] - 5s 2ms/step - loss: 0.0208 - accuracy: 0.9931\n",
      "Epoch 32/100\n",
      "1875/1875 [==============================] - 4s 2ms/step - loss: 0.0193 - accuracy: 0.9933\n",
      "Epoch 33/100\n",
      "1875/1875 [==============================] - 4s 2ms/step - loss: 0.0183 - accuracy: 0.9935\n",
      "Epoch 34/100\n",
      "1875/1875 [==============================] - 4s 2ms/step - loss: 0.0176 - accuracy: 0.9937\n",
      "Epoch 35/100\n",
      "1875/1875 [==============================] - 4s 2ms/step - loss: 0.0180 - accuracy: 0.9937\n",
      "Epoch 36/100\n",
      "1875/1875 [==============================] - 4s 2ms/step - loss: 0.0179 - accuracy: 0.9937\n",
      "Epoch 37/100\n",
      "1875/1875 [==============================] - 6s 3ms/step - loss: 0.0196 - accuracy: 0.9934\n",
      "Epoch 38/100\n",
      "1875/1875 [==============================] - 6s 3ms/step - loss: 0.0185 - accuracy: 0.9937\n",
      "Epoch 39/100\n",
      "1875/1875 [==============================] - 7s 4ms/step - loss: 0.0171 - accuracy: 0.9939\n",
      "Epoch 40/100\n",
      "1875/1875 [==============================] - 8s 4ms/step - loss: 0.0163 - accuracy: 0.9943\n",
      "Epoch 41/100\n",
      "1875/1875 [==============================] - 6s 3ms/step - loss: 0.0163 - accuracy: 0.9944\n",
      "Epoch 42/100\n",
      "1875/1875 [==============================] - 6s 3ms/step - loss: 0.0175 - accuracy: 0.9942\n",
      "Epoch 43/100\n",
      "1875/1875 [==============================] - 7s 4ms/step - loss: 0.0154 - accuracy: 0.9945\n",
      "Epoch 44/100\n",
      "1875/1875 [==============================] - 8s 4ms/step - loss: 0.0162 - accuracy: 0.9945\n",
      "Epoch 45/100\n",
      "1875/1875 [==============================] - 9s 5ms/step - loss: 0.0154 - accuracy: 0.9948\n",
      "Epoch 46/100\n",
      "1875/1875 [==============================] - 8s 4ms/step - loss: 0.0157 - accuracy: 0.9945\n",
      "Epoch 47/100\n",
      "1875/1875 [==============================] - 10s 5ms/step - loss: 0.0162 - accuracy: 0.9944\n",
      "Epoch 48/100\n",
      "1875/1875 [==============================] - 10s 5ms/step - loss: 0.0143 - accuracy: 0.9951\n",
      "Epoch 49/100\n",
      "1875/1875 [==============================] - 11s 6ms/step - loss: 0.0156 - accuracy: 0.9949\n",
      "Epoch 50/100\n",
      "1875/1875 [==============================] - 9s 5ms/step - loss: 0.0158 - accuracy: 0.9950\n",
      "Epoch 51/100\n",
      "1875/1875 [==============================] - 11s 6ms/step - loss: 0.0163 - accuracy: 0.9943\n",
      "Epoch 52/100\n",
      "1875/1875 [==============================] - 12s 7ms/step - loss: 0.0138 - accuracy: 0.9952\n",
      "Epoch 53/100\n",
      "1875/1875 [==============================] - 11s 6ms/step - loss: 0.0163 - accuracy: 0.9947\n",
      "Epoch 54/100\n",
      "1875/1875 [==============================] - 8s 4ms/step - loss: 0.0147 - accuracy: 0.9951\n",
      "Epoch 55/100\n",
      "1875/1875 [==============================] - 9s 5ms/step - loss: 0.0136 - accuracy: 0.9953\n",
      "Epoch 56/100\n",
      "1875/1875 [==============================] - 8s 4ms/step - loss: 0.0153 - accuracy: 0.9945\n",
      "Epoch 57/100\n",
      "1875/1875 [==============================] - 9s 5ms/step - loss: 0.0129 - accuracy: 0.9954\n",
      "Epoch 58/100\n",
      "1875/1875 [==============================] - 9s 5ms/step - loss: 0.0155 - accuracy: 0.9949\n",
      "Epoch 59/100\n",
      "1875/1875 [==============================] - 9s 5ms/step - loss: 0.0132 - accuracy: 0.9954\n",
      "Epoch 60/100\n",
      "1875/1875 [==============================] - 9s 5ms/step - loss: 0.0151 - accuracy: 0.9950\n",
      "Epoch 61/100\n",
      "1875/1875 [==============================] - 7s 4ms/step - loss: 0.0133 - accuracy: 0.9953\n",
      "Epoch 62/100\n",
      "1875/1875 [==============================] - 7s 4ms/step - loss: 0.0136 - accuracy: 0.9954\n",
      "Epoch 63/100\n",
      "1875/1875 [==============================] - 8s 4ms/step - loss: 0.0141 - accuracy: 0.9953\n",
      "Epoch 64/100\n",
      "1875/1875 [==============================] - 8s 4ms/step - loss: 0.0130 - accuracy: 0.9960\n",
      "Epoch 65/100\n",
      "1875/1875 [==============================] - 8s 4ms/step - loss: 0.0135 - accuracy: 0.9956\n",
      "Epoch 66/100\n",
      "1875/1875 [==============================] - 8s 4ms/step - loss: 0.0148 - accuracy: 0.9953\n",
      "Epoch 67/100\n",
      "1875/1875 [==============================] - 9s 5ms/step - loss: 0.0119 - accuracy: 0.9959\n",
      "Epoch 68/100\n",
      "1875/1875 [==============================] - 12s 6ms/step - loss: 0.0115 - accuracy: 0.9960\n",
      "Epoch 69/100\n",
      "1875/1875 [==============================] - 9s 5ms/step - loss: 0.0131 - accuracy: 0.9957\n",
      "Epoch 70/100\n",
      "1875/1875 [==============================] - 10s 5ms/step - loss: 0.0117 - accuracy: 0.9960\n",
      "Epoch 71/100\n",
      "1875/1875 [==============================] - 10s 6ms/step - loss: 0.0116 - accuracy: 0.9959\n",
      "Epoch 72/100\n",
      "1875/1875 [==============================] - 9s 5ms/step - loss: 0.0132 - accuracy: 0.9955\n",
      "Epoch 73/100\n",
      "1875/1875 [==============================] - 7s 4ms/step - loss: 0.0144 - accuracy: 0.9954\n",
      "Epoch 74/100\n",
      "1875/1875 [==============================] - 7s 4ms/step - loss: 0.0128 - accuracy: 0.9958\n",
      "Epoch 75/100\n",
      "1875/1875 [==============================] - 8s 4ms/step - loss: 0.0116 - accuracy: 0.9963\n",
      "Epoch 76/100\n",
      "1875/1875 [==============================] - 8s 4ms/step - loss: 0.0138 - accuracy: 0.9955\n",
      "Epoch 77/100\n",
      "1875/1875 [==============================] - 9s 5ms/step - loss: 0.0121 - accuracy: 0.9959\n",
      "Epoch 78/100\n",
      "1875/1875 [==============================] - 8s 4ms/step - loss: 0.0135 - accuracy: 0.9956\n",
      "Epoch 79/100\n",
      "1875/1875 [==============================] - 9s 5ms/step - loss: 0.0125 - accuracy: 0.9960\n",
      "Epoch 80/100\n",
      "1875/1875 [==============================] - 8s 4ms/step - loss: 0.0116 - accuracy: 0.9961\n",
      "Epoch 81/100\n",
      "1875/1875 [==============================] - 8s 4ms/step - loss: 0.0131 - accuracy: 0.9959\n",
      "Epoch 82/100\n",
      "1875/1875 [==============================] - 9s 5ms/step - loss: 0.0118 - accuracy: 0.9957\n",
      "Epoch 83/100\n",
      "1875/1875 [==============================] - 9s 5ms/step - loss: 0.0127 - accuracy: 0.9960\n",
      "Epoch 84/100\n",
      "1875/1875 [==============================] - 9s 5ms/step - loss: 0.0122 - accuracy: 0.9958\n",
      "Epoch 85/100\n",
      "1875/1875 [==============================] - 7s 4ms/step - loss: 0.0121 - accuracy: 0.9958\n",
      "Epoch 86/100\n",
      "1875/1875 [==============================] - 7s 4ms/step - loss: 0.0118 - accuracy: 0.9963\n",
      "Epoch 87/100\n",
      "1875/1875 [==============================] - 7s 4ms/step - loss: 0.0106 - accuracy: 0.9965\n",
      "Epoch 88/100\n",
      "1875/1875 [==============================] - 7s 4ms/step - loss: 0.0104 - accuracy: 0.9966\n",
      "Epoch 89/100\n",
      "1875/1875 [==============================] - 7s 4ms/step - loss: 0.0117 - accuracy: 0.9962\n",
      "Epoch 90/100\n",
      "1875/1875 [==============================] - 8s 4ms/step - loss: 0.0119 - accuracy: 0.9964\n",
      "Epoch 91/100\n",
      "1875/1875 [==============================] - 9s 5ms/step - loss: 0.0109 - accuracy: 0.9964\n",
      "Epoch 92/100\n",
      "1875/1875 [==============================] - 8s 4ms/step - loss: 0.0109 - accuracy: 0.9966\n",
      "Epoch 93/100\n",
      "1875/1875 [==============================] - 7s 4ms/step - loss: 0.0122 - accuracy: 0.9962\n",
      "Epoch 94/100\n",
      "1875/1875 [==============================] - 7s 4ms/step - loss: 0.0115 - accuracy: 0.9963\n",
      "Epoch 95/100\n",
      "1875/1875 [==============================] - 7s 4ms/step - loss: 0.0099 - accuracy: 0.9966\n",
      "Epoch 96/100\n",
      "1875/1875 [==============================] - 7s 4ms/step - loss: 0.0120 - accuracy: 0.9962\n",
      "Epoch 97/100\n",
      "1875/1875 [==============================] - 10s 5ms/step - loss: 0.0113 - accuracy: 0.9964\n",
      "Epoch 98/100\n",
      "1875/1875 [==============================] - 8s 4ms/step - loss: 0.0130 - accuracy: 0.9961\n",
      "Epoch 99/100\n",
      "1875/1875 [==============================] - 8s 5ms/step - loss: 0.0107 - accuracy: 0.9966\n",
      "Epoch 100/100\n",
      "1875/1875 [==============================] - 8s 4ms/step - loss: 0.0135 - accuracy: 0.9958\n"
     ]
    },
    {
     "data": {
      "text/plain": "<keras.callbacks.History at 0x211754fada0>"
     },
     "execution_count": 7,
     "metadata": {},
     "output_type": "execute_result"
    }
   ],
   "source": [
    "model.fit(x_train, y_train, epochs=100)"
   ],
   "metadata": {
    "collapsed": false,
    "pycharm": {
     "name": "#%%\n"
    }
   }
  },
  {
   "cell_type": "code",
   "execution_count": 8,
   "outputs": [
    {
     "name": "stdout",
     "output_type": "stream",
     "text": [
      "313/313 [==============================] - 2s 4ms/step - loss: 0.1387 - accuracy: 0.9807\n",
      "0.1386553794145584 0.9807000160217285\n"
     ]
    }
   ],
   "source": [
    "test_loss, test_accuracy = model.evaluate(x_test, y_test)\n",
    "print(test_loss, test_accuracy)"
   ],
   "metadata": {
    "collapsed": false,
    "pycharm": {
     "name": "#%%\n"
    }
   }
  }
 ],
 "metadata": {
  "kernelspec": {
   "display_name": "Python 3",
   "language": "python",
   "name": "python3"
  },
  "language_info": {
   "codemirror_mode": {
    "name": "ipython",
    "version": 2
   },
   "file_extension": ".py",
   "mimetype": "text/x-python",
   "name": "python",
   "nbconvert_exporter": "python",
   "pygments_lexer": "ipython2",
   "version": "2.7.6"
  }
 },
 "nbformat": 4,
 "nbformat_minor": 0
}