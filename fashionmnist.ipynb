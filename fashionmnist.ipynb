{
 "cells": [
  {
   "cell_type": "code",
   "execution_count": 3,
   "metadata": {
    "collapsed": true,
    "pycharm": {
     "name": "#%%\n"
    }
   },
   "outputs": [],
   "source": [
    "import tensorflow as tf"
   ]
  },
  {
   "cell_type": "code",
   "execution_count": 4,
   "outputs": [
    {
     "name": "stdout",
     "output_type": "stream",
     "text": [
      "Found 70000 files belonging to 10 classes.\n",
      "Using 56000 files for training.\n",
      "Found 70000 files belonging to 10 classes.\n",
      "Using 14000 files for validation.\n"
     ]
    }
   ],
   "source": [
    "train_ds = tf.keras.preprocessing.image_dataset_from_directory(\n",
    "    \"datasets/fashion_mnist\",\n",
    "    validation_split=0.2,\n",
    "    subset=\"training\",\n",
    "    seed=123,\n",
    "    image_size=(28, 28),\n",
    "    batch_size=32\n",
    ")\n",
    "\n",
    "train_val = tf.keras.preprocessing.image_dataset_from_directory(\n",
    "    \"datasets/fashion_mnist\",\n",
    "    validation_split=0.2,\n",
    "    subset=\"validation\",\n",
    "    seed=123,\n",
    "    image_size=(28, 28),\n",
    "    batch_size=32\n",
    ")"
   ],
   "metadata": {
    "collapsed": false,
    "pycharm": {
     "name": "#%%\n"
    }
   }
  },
  {
   "cell_type": "code",
   "execution_count": 5,
   "outputs": [],
   "source": [
    "model = tf.keras.models.Sequential()\n",
    "\n",
    "model.add(tf.keras.layers.Rescaling(1. / 255.))\n",
    "\n",
    "model.add(tf.keras.layers.Conv2D(64, 3, activation=\"relu\", padding=\"same\", input_shape=(28, 28, 1)))\n",
    "model.add(tf.keras.layers.Conv2D(64, 3, activation=\"relu\", padding=\"same\", input_shape=(28, 28, 1)))\n",
    "model.add(tf.keras.layers.Conv2D(64, 3, activation=\"relu\", padding=\"same\", input_shape=(28, 28, 1)))\n",
    "\n",
    "model.add(tf.keras.layers.Flatten())\n",
    "\n",
    "model.add(tf.keras.layers.Dense(128, activation=\"relu\"))\n",
    "model.add(tf.keras.layers.Dropout(0.2))\n",
    "\n",
    "model.add(tf.keras.layers.Dense(128, activation=\"relu\"))\n",
    "model.add(tf.keras.layers.Dropout(0.2))\n",
    "\n",
    "model.add(tf.keras.layers.Dense(10, activation='softmax'))\n",
    "\n",
    "model.compile(optimizer=tf.keras.optimizers.Adam(), loss=tf.keras.losses.SparseCategoricalCrossentropy(),  metrics=['accuracy'])"
   ],
   "metadata": {
    "collapsed": false,
    "pycharm": {
     "name": "#%%\n"
    }
   }
  },
  {
   "cell_type": "code",
   "execution_count": 6,
   "outputs": [
    {
     "name": "stdout",
     "output_type": "stream",
     "text": [
      "Epoch 1/5\n",
      "1750/1750 [==============================] - 375s 214ms/step - loss: 0.4125 - accuracy: 0.8534\n",
      "Epoch 2/5\n",
      "1750/1750 [==============================] - 400s 229ms/step - loss: 0.2544 - accuracy: 0.9087\n",
      "Epoch 3/5\n",
      "1750/1750 [==============================] - 397s 227ms/step - loss: 0.1857 - accuracy: 0.9325\n",
      "Epoch 4/5\n",
      "1750/1750 [==============================] - 431s 246ms/step - loss: 0.1340 - accuracy: 0.9499\n",
      "Epoch 5/5\n",
      "1750/1750 [==============================] - 450s 257ms/step - loss: 0.0962 - accuracy: 0.9659\n"
     ]
    },
    {
     "data": {
      "text/plain": "<keras.callbacks.History at 0x2a454aede40>"
     },
     "execution_count": 6,
     "metadata": {},
     "output_type": "execute_result"
    }
   ],
   "source": [
    "model.fit(train_ds, epochs=5)"
   ],
   "metadata": {
    "collapsed": false,
    "pycharm": {
     "name": "#%%\n"
    }
   }
  },
  {
   "cell_type": "code",
   "execution_count": 7,
   "outputs": [
    {
     "name": "stdout",
     "output_type": "stream",
     "text": [
      "438/438 [==============================] - 39s 87ms/step - loss: 0.3241 - accuracy: 0.9085\n",
      "0.32407912611961365 0.9085000157356262\n"
     ]
    }
   ],
   "source": [
    "test_loss, test_accuracy = model.evaluate(train_val)\n",
    "print(test_loss, test_accuracy)"
   ],
   "metadata": {
    "collapsed": false,
    "pycharm": {
     "name": "#%%\n"
    }
   }
  }
 ],
 "metadata": {
  "kernelspec": {
   "display_name": "Python 3",
   "language": "python",
   "name": "python3"
  },
  "language_info": {
   "codemirror_mode": {
    "name": "ipython",
    "version": 2
   },
   "file_extension": ".py",
   "mimetype": "text/x-python",
   "name": "python",
   "nbconvert_exporter": "python",
   "pygments_lexer": "ipython2",
   "version": "2.7.6"
  }
 },
 "nbformat": 4,
 "nbformat_minor": 0
}