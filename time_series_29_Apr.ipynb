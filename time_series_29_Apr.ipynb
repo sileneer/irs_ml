{
 "cells": [
  {
   "cell_type": "code",
   "execution_count": 312,
   "outputs": [],
   "source": [
    "import tensorflow as tf\n",
    "import pandas as pd\n",
    "import numpy as np\n",
    "import matplotlib.pyplot as plt\n",
    "import tensorflow_datasets as tfds"
   ],
   "metadata": {
    "collapsed": false,
    "pycharm": {
     "name": "#%%\n"
    }
   }
  },
  {
   "cell_type": "code",
   "execution_count": 313,
   "outputs": [
    {
     "data": {
      "text/plain": "            date   meantemp    humidity  wind_speed  meanpressure  comfortable\n0     2013-01-01  10.000000   84.500000    0.000000   1015.666667            0\n1     2013-01-02   7.400000   92.000000    2.980000   1017.800000            0\n2     2013-01-03   7.166667   87.000000    4.633333   1018.666667            0\n3     2013-01-04   8.666667   71.333333    1.233333   1017.166667            0\n4     2013-01-05   6.000000   86.833333    3.700000   1016.500000            0\n...          ...        ...         ...         ...           ...          ...\n1457  2016-12-28  17.217391   68.043478    3.547826   1015.565217            0\n1458  2016-12-29  15.238095   87.857143    6.000000   1016.904762            0\n1459  2016-12-30  14.095238   89.666667    6.266667   1017.904762            0\n1460  2016-12-31  15.052632   87.000000    7.325000   1016.100000            0\n1461  2017-01-01  10.000000  100.000000    0.000000   1016.000000            0\n\n[1462 rows x 6 columns]",
      "text/html": "<div>\n<style scoped>\n    .dataframe tbody tr th:only-of-type {\n        vertical-align: middle;\n    }\n\n    .dataframe tbody tr th {\n        vertical-align: top;\n    }\n\n    .dataframe thead th {\n        text-align: right;\n    }\n</style>\n<table border=\"1\" class=\"dataframe\">\n  <thead>\n    <tr style=\"text-align: right;\">\n      <th></th>\n      <th>date</th>\n      <th>meantemp</th>\n      <th>humidity</th>\n      <th>wind_speed</th>\n      <th>meanpressure</th>\n      <th>comfortable</th>\n    </tr>\n  </thead>\n  <tbody>\n    <tr>\n      <th>0</th>\n      <td>2013-01-01</td>\n      <td>10.000000</td>\n      <td>84.500000</td>\n      <td>0.000000</td>\n      <td>1015.666667</td>\n      <td>0</td>\n    </tr>\n    <tr>\n      <th>1</th>\n      <td>2013-01-02</td>\n      <td>7.400000</td>\n      <td>92.000000</td>\n      <td>2.980000</td>\n      <td>1017.800000</td>\n      <td>0</td>\n    </tr>\n    <tr>\n      <th>2</th>\n      <td>2013-01-03</td>\n      <td>7.166667</td>\n      <td>87.000000</td>\n      <td>4.633333</td>\n      <td>1018.666667</td>\n      <td>0</td>\n    </tr>\n    <tr>\n      <th>3</th>\n      <td>2013-01-04</td>\n      <td>8.666667</td>\n      <td>71.333333</td>\n      <td>1.233333</td>\n      <td>1017.166667</td>\n      <td>0</td>\n    </tr>\n    <tr>\n      <th>4</th>\n      <td>2013-01-05</td>\n      <td>6.000000</td>\n      <td>86.833333</td>\n      <td>3.700000</td>\n      <td>1016.500000</td>\n      <td>0</td>\n    </tr>\n    <tr>\n      <th>...</th>\n      <td>...</td>\n      <td>...</td>\n      <td>...</td>\n      <td>...</td>\n      <td>...</td>\n      <td>...</td>\n    </tr>\n    <tr>\n      <th>1457</th>\n      <td>2016-12-28</td>\n      <td>17.217391</td>\n      <td>68.043478</td>\n      <td>3.547826</td>\n      <td>1015.565217</td>\n      <td>0</td>\n    </tr>\n    <tr>\n      <th>1458</th>\n      <td>2016-12-29</td>\n      <td>15.238095</td>\n      <td>87.857143</td>\n      <td>6.000000</td>\n      <td>1016.904762</td>\n      <td>0</td>\n    </tr>\n    <tr>\n      <th>1459</th>\n      <td>2016-12-30</td>\n      <td>14.095238</td>\n      <td>89.666667</td>\n      <td>6.266667</td>\n      <td>1017.904762</td>\n      <td>0</td>\n    </tr>\n    <tr>\n      <th>1460</th>\n      <td>2016-12-31</td>\n      <td>15.052632</td>\n      <td>87.000000</td>\n      <td>7.325000</td>\n      <td>1016.100000</td>\n      <td>0</td>\n    </tr>\n    <tr>\n      <th>1461</th>\n      <td>2017-01-01</td>\n      <td>10.000000</td>\n      <td>100.000000</td>\n      <td>0.000000</td>\n      <td>1016.000000</td>\n      <td>0</td>\n    </tr>\n  </tbody>\n</table>\n<p>1462 rows × 6 columns</p>\n</div>"
     },
     "execution_count": 313,
     "metadata": {},
     "output_type": "execute_result"
    }
   ],
   "source": [
    "ds_train = pd.read_csv(\"datasets/DailyDelhiClimateTrain.csv\",\n",
    "                       names=['date', 'meantemp', 'humidity', 'wind_speed', 'meanpressure', 'comfortable'], skiprows=1)\n",
    "ds_test = pd.read_csv(\"datasets/DailyDelhiClimateTest.csv\",\n",
    "                      names=['date', 'meantemp', 'humidity', 'wind_speed', 'meanpressure', 'comfortable'], skiprows=1)\n",
    "ds_train"
   ],
   "metadata": {
    "collapsed": false,
    "pycharm": {
     "name": "#%%\n"
    }
   }
  },
  {
   "cell_type": "code",
   "execution_count": 314,
   "outputs": [
    {
     "data": {
      "text/plain": "array([[0.10332103, 0.71071429, 0.        , 0.13265583, 0.        ],\n       [0.03616236, 0.78571429, 0.07058266, 0.13293363, 0.        ],\n       [0.0301353 , 0.73571429, 0.10974262, 0.13304649, 0.        ],\n       ...,\n       [0.20910209, 0.76238095, 0.14842886, 0.13294727, 0.        ],\n       [0.23383181, 0.73571429, 0.17349597, 0.13271226, 0.        ],\n       [0.10332103, 0.86571429, 0.        , 0.13269924, 0.        ]])"
     },
     "execution_count": 314,
     "metadata": {},
     "output_type": "execute_result"
    }
   ],
   "source": [
    "def normalise(data, min, max):\n",
    "    data = data - min\n",
    "    data = data / max\n",
    "    return data\n",
    "\n",
    "\n",
    "ds_train.drop(\"date\", axis=1, inplace=True)\n",
    "data_train = ds_train.values\n",
    "ds_train_normed = normalise(data_train, data_train.min(axis=0), data_train.max(axis=0))\n",
    "\n",
    "ds_test.drop(\"date\", axis=1, inplace=True)\n",
    "data_test = ds_train.values\n",
    "ds_test_normed = normalise(data_test, data_test.min(axis=0), data_test.max(axis=0))\n",
    "\n",
    "ds_train_normed"
   ],
   "metadata": {
    "collapsed": false,
    "pycharm": {
     "name": "#%%\n"
    }
   }
  },
  {
   "cell_type": "code",
   "execution_count": 315,
   "outputs": [],
   "source": [
    "def windowed_dataset(series, batch_size, n_past=10, n_future=10, shift=1):\n",
    "    '''\n",
    "    :param series: an iterable\n",
    "    :param batch_size: number of samples per batch\n",
    "    :param n_past: number of timesteps to look back (x or input to the model)\n",
    "    :param n_future: number of timesteps to predict (y or output of the model)\n",
    "    :param shift: number of timesteps to shift the window by, usually 1 if we want to maximise the use of data\n",
    "    :return:\n",
    "    '''\n",
    "    ds = tf.data.Dataset.from_tensor_slices(series)\n",
    "    ds = ds.window(size=n_past + n_future, shift=shift, drop_remainder=True)\n",
    "    ds = ds.flat_map(lambda w: w.batch(n_past + n_future))\n",
    "    ds = ds.map(lambda x: (x[:n_past, :], x[:n_past, :1]))\n",
    "\n",
    "    # ds = ds.map(lambda w: (w[:n_past, :4], (w[:n_past, :4], w[:n_past, 4])))\n",
    "    return ds.batch(batch_size).prefetch(1)"
   ],
   "metadata": {
    "collapsed": false,
    "pycharm": {
     "name": "#%%\n"
    }
   }
  },
  {
   "cell_type": "code",
   "execution_count": 316,
   "outputs": [],
   "source": [
    "BATCH_SIZE = 32  # explore how changing this affects the model (it is not as simple as larger batch size = better performance, lik ein image tasks)\n",
    "N_PAST = 10\n",
    "N_FUTURE = 10\n",
    "SHIFT = 1\n",
    "\n",
    "EPOCHS = 100"
   ],
   "metadata": {
    "collapsed": false,
    "pycharm": {
     "name": "#%%\n"
    }
   }
  },
  {
   "cell_type": "code",
   "execution_count": 317,
   "outputs": [
    {
     "data": {
      "text/plain": "(TensorSpec(shape=(None, None, 5), dtype=tf.float64, name=None),\n TensorSpec(shape=(None, None, 1), dtype=tf.float64, name=None))"
     },
     "execution_count": 317,
     "metadata": {},
     "output_type": "execute_result"
    }
   ],
   "source": [
    "proc_ds_train = windowed_dataset(series=ds_train_normed, batch_size=BATCH_SIZE, n_past=N_PAST, n_future=N_FUTURE,\n",
    "                                 shift=SHIFT)\n",
    "proc_ds_test = windowed_dataset(series=ds_train_normed, batch_size=BATCH_SIZE, n_past=N_PAST, n_future=N_FUTURE,\n",
    "                                shift=SHIFT)\n",
    "proc_ds_train.element_spec"
   ],
   "metadata": {
    "collapsed": false,
    "pycharm": {
     "name": "#%%\n"
    }
   }
  },
  {
   "cell_type": "code",
   "execution_count": 318,
   "outputs": [
    {
     "name": "stdout",
     "output_type": "stream",
     "text": [
      "Model: \"model_24\"\n",
      "__________________________________________________________________________________________________\n",
      " Layer (type)                   Output Shape         Param #     Connected to                     \n",
      "==================================================================================================\n",
      " input_25 (InputLayer)          [(None, 10, 5)]      0           []                               \n",
      "                                                                                                  \n",
      " lstm_48 (LSTM)                 (None, 10, 32)       4864        ['input_25[0][0]']               \n",
      "                                                                                                  \n",
      " lstm_49 (LSTM)                 (None, 10, 32)       8320        ['lstm_48[0][0]']                \n",
      "                                                                                                  \n",
      " dense_48 (Dense)               (None, 10, 64)       2112        ['lstm_49[0][0]']                \n",
      "                                                                                                  \n",
      " meantemp (Dense)               (None, 10, 10)       650         ['dense_48[0][0]']               \n",
      "                                                                                                  \n",
      " humidity (Dense)               (None, 10, 10)       650         ['dense_48[0][0]']               \n",
      "                                                                                                  \n",
      " wind_speed (Dense)             (None, 10, 10)       650         ['dense_48[0][0]']               \n",
      "                                                                                                  \n",
      " meanpressure (Dense)           (None, 10, 10)       650         ['dense_48[0][0]']               \n",
      "                                                                                                  \n",
      " concatenate_24 (Concatenate)   (None, 10, 40)       0           ['meantemp[0][0]',               \n",
      "                                                                  'humidity[0][0]',               \n",
      "                                                                  'wind_speed[0][0]',             \n",
      "                                                                  'meanpressure[0][0]']           \n",
      "                                                                                                  \n",
      " dense_49 (Dense)               (None, 10, 10)       410         ['concatenate_24[0][0]']         \n",
      "                                                                                                  \n",
      " flatten_30 (Flatten)           (None, 100)          0           ['dense_49[0][0]']               \n",
      "                                                                                                  \n",
      " comfortable (Dense)            (None, 10)           1010        ['flatten_30[0][0]']             \n",
      "                                                                                                  \n",
      "==================================================================================================\n",
      "Total params: 19,316\n",
      "Trainable params: 19,316\n",
      "Non-trainable params: 0\n",
      "__________________________________________________________________________________________________\n"
     ]
    }
   ],
   "source": [
    "xIn = tf.keras.layers.Input((N_PAST, 5))\n",
    "x = tf.keras.layers.LSTM(32, return_sequences=True)(xIn)\n",
    "x = tf.keras.layers.LSTM(32, return_sequences=True)(x)\n",
    "x = tf.keras.layers.Dense(64, activation='swish')(x)\n",
    "# x = tf.keras.layers.Flatten()(x)\n",
    "\n",
    "x_meantemp = tf.keras.layers.Dense(N_FUTURE, activation='swish', name=\"meantemp\")(x)\n",
    "x_humidity = tf.keras.layers.Dense(N_FUTURE, activation='swish', name=\"humidity\")(x)\n",
    "x_wind_speed = tf.keras.layers.Dense(N_FUTURE, activation='swish', name=\"wind_speed\")(x)\n",
    "x_meanpressure = tf.keras.layers.Dense(N_FUTURE, activation='swish', name=\"meanpressure\")(x)\n",
    "\n",
    "x_weather_out = tf.keras.layers.Dense(N_FUTURE, activation='swish')(\n",
    "    tf.keras.layers.Concatenate()([x_meantemp, x_humidity, x_wind_speed, x_meanpressure]))\n",
    "x = tf.keras.layers.Flatten()(x_weather_out)\n",
    "x_comfortable_out = tf.keras.layers.Dense(N_FUTURE, activation='swish', name=\"comfortable\")(x)\n",
    "\n",
    "xOut = [x_weather_out, x_comfortable_out]\n",
    "\n",
    "model = tf.keras.Model(inputs=xIn, outputs=xOut)\n",
    "model.compile(loss='mse', optimizer='adam', metrics='mse')\n",
    "model.summary()"
   ],
   "metadata": {
    "collapsed": false,
    "pycharm": {
     "name": "#%%\n"
    }
   }
  },
  {
   "cell_type": "code",
   "execution_count": 319,
   "outputs": [
    {
     "name": "stdout",
     "output_type": "stream",
     "text": [
      "Epoch 1/100\n",
      "46/46 [==============================] - 7s 41ms/step - loss: 0.3428 - dense_49_loss: 0.1879 - comfortable_loss: 0.1549 - dense_49_mse: 0.1879 - comfortable_mse: 0.1549 - val_loss: 0.1488 - val_dense_49_loss: 0.1146 - val_comfortable_loss: 0.0342 - val_dense_49_mse: 0.1146 - val_comfortable_mse: 0.0342\n",
      "Epoch 2/100\n",
      "46/46 [==============================] - 1s 16ms/step - loss: 0.1013 - dense_49_loss: 0.0845 - comfortable_loss: 0.0168 - dense_49_mse: 0.0845 - comfortable_mse: 0.0168 - val_loss: 0.0601 - val_dense_49_loss: 0.0542 - val_comfortable_loss: 0.0059 - val_dense_49_mse: 0.0542 - val_comfortable_mse: 0.0059\n",
      "Epoch 3/100\n",
      "46/46 [==============================] - 1s 16ms/step - loss: 0.0517 - dense_49_loss: 0.0415 - comfortable_loss: 0.0103 - dense_49_mse: 0.0415 - comfortable_mse: 0.0103 - val_loss: 0.0359 - val_dense_49_loss: 0.0304 - val_comfortable_loss: 0.0055 - val_dense_49_mse: 0.0304 - val_comfortable_mse: 0.0055\n",
      "Epoch 4/100\n",
      "46/46 [==============================] - 1s 16ms/step - loss: 0.0386 - dense_49_loss: 0.0265 - comfortable_loss: 0.0122 - dense_49_mse: 0.0265 - comfortable_mse: 0.0122 - val_loss: 0.0280 - val_dense_49_loss: 0.0215 - val_comfortable_loss: 0.0065 - val_dense_49_mse: 0.0215 - val_comfortable_mse: 0.0065\n",
      "Epoch 5/100\n",
      "46/46 [==============================] - 1s 16ms/step - loss: 0.0304 - dense_49_loss: 0.0201 - comfortable_loss: 0.0103 - dense_49_mse: 0.0201 - comfortable_mse: 0.0103 - val_loss: 0.0252 - val_dense_49_loss: 0.0176 - val_comfortable_loss: 0.0076 - val_dense_49_mse: 0.0176 - val_comfortable_mse: 0.0076\n",
      "Epoch 6/100\n",
      "46/46 [==============================] - 1s 16ms/step - loss: 0.0246 - dense_49_loss: 0.0167 - comfortable_loss: 0.0079 - dense_49_mse: 0.0167 - comfortable_mse: 0.0079 - val_loss: 0.0219 - val_dense_49_loss: 0.0151 - val_comfortable_loss: 0.0068 - val_dense_49_mse: 0.0151 - val_comfortable_mse: 0.0068\n",
      "Epoch 7/100\n",
      "46/46 [==============================] - 1s 16ms/step - loss: 0.0215 - dense_49_loss: 0.0145 - comfortable_loss: 0.0069 - dense_49_mse: 0.0145 - comfortable_mse: 0.0069 - val_loss: 0.0190 - val_dense_49_loss: 0.0132 - val_comfortable_loss: 0.0058 - val_dense_49_mse: 0.0132 - val_comfortable_mse: 0.0058\n",
      "Epoch 8/100\n",
      "46/46 [==============================] - 1s 16ms/step - loss: 0.0197 - dense_49_loss: 0.0130 - comfortable_loss: 0.0066 - dense_49_mse: 0.0130 - comfortable_mse: 0.0066 - val_loss: 0.0169 - val_dense_49_loss: 0.0118 - val_comfortable_loss: 0.0051 - val_dense_49_mse: 0.0118 - val_comfortable_mse: 0.0051\n",
      "Epoch 9/100\n",
      "46/46 [==============================] - 1s 16ms/step - loss: 0.0184 - dense_49_loss: 0.0119 - comfortable_loss: 0.0066 - dense_49_mse: 0.0119 - comfortable_mse: 0.0066 - val_loss: 0.0154 - val_dense_49_loss: 0.0107 - val_comfortable_loss: 0.0047 - val_dense_49_mse: 0.0107 - val_comfortable_mse: 0.0047\n",
      "Epoch 10/100\n",
      "46/46 [==============================] - 1s 17ms/step - loss: 0.0173 - dense_49_loss: 0.0109 - comfortable_loss: 0.0064 - dense_49_mse: 0.0109 - comfortable_mse: 0.0064 - val_loss: 0.0143 - val_dense_49_loss: 0.0097 - val_comfortable_loss: 0.0046 - val_dense_49_mse: 0.0097 - val_comfortable_mse: 0.0046\n",
      "Epoch 11/100\n",
      "46/46 [==============================] - 1s 17ms/step - loss: 0.0162 - dense_49_loss: 0.0100 - comfortable_loss: 0.0062 - dense_49_mse: 0.0100 - comfortable_mse: 0.0062 - val_loss: 0.0134 - val_dense_49_loss: 0.0089 - val_comfortable_loss: 0.0045 - val_dense_49_mse: 0.0089 - val_comfortable_mse: 0.0045\n",
      "Epoch 12/100\n",
      "46/46 [==============================] - 1s 18ms/step - loss: 0.0153 - dense_49_loss: 0.0092 - comfortable_loss: 0.0061 - dense_49_mse: 0.0092 - comfortable_mse: 0.0061 - val_loss: 0.0127 - val_dense_49_loss: 0.0082 - val_comfortable_loss: 0.0046 - val_dense_49_mse: 0.0082 - val_comfortable_mse: 0.0046\n",
      "Epoch 13/100\n",
      "46/46 [==============================] - 1s 17ms/step - loss: 0.0146 - dense_49_loss: 0.0086 - comfortable_loss: 0.0061 - dense_49_mse: 0.0086 - comfortable_mse: 0.0061 - val_loss: 0.0123 - val_dense_49_loss: 0.0075 - val_comfortable_loss: 0.0048 - val_dense_49_mse: 0.0075 - val_comfortable_mse: 0.0048\n",
      "Epoch 14/100\n",
      "46/46 [==============================] - 1s 17ms/step - loss: 0.0142 - dense_49_loss: 0.0080 - comfortable_loss: 0.0062 - dense_49_mse: 0.0080 - comfortable_mse: 0.0062 - val_loss: 0.0120 - val_dense_49_loss: 0.0069 - val_comfortable_loss: 0.0050 - val_dense_49_mse: 0.0069 - val_comfortable_mse: 0.0050\n",
      "Epoch 15/100\n",
      "46/46 [==============================] - 1s 17ms/step - loss: 0.0138 - dense_49_loss: 0.0075 - comfortable_loss: 0.0063 - dense_49_mse: 0.0075 - comfortable_mse: 0.0063 - val_loss: 0.0118 - val_dense_49_loss: 0.0064 - val_comfortable_loss: 0.0054 - val_dense_49_mse: 0.0064 - val_comfortable_mse: 0.0054\n",
      "Epoch 16/100\n",
      "46/46 [==============================] - 1s 16ms/step - loss: 0.0134 - dense_49_loss: 0.0070 - comfortable_loss: 0.0064 - dense_49_mse: 0.0070 - comfortable_mse: 0.0064 - val_loss: 0.0117 - val_dense_49_loss: 0.0060 - val_comfortable_loss: 0.0057 - val_dense_49_mse: 0.0060 - val_comfortable_mse: 0.0057\n",
      "Epoch 17/100\n",
      "46/46 [==============================] - 1s 16ms/step - loss: 0.0131 - dense_49_loss: 0.0066 - comfortable_loss: 0.0065 - dense_49_mse: 0.0066 - comfortable_mse: 0.0065 - val_loss: 0.0115 - val_dense_49_loss: 0.0056 - val_comfortable_loss: 0.0060 - val_dense_49_mse: 0.0056 - val_comfortable_mse: 0.0060\n",
      "Epoch 18/100\n",
      "46/46 [==============================] - 1s 17ms/step - loss: 0.0127 - dense_49_loss: 0.0061 - comfortable_loss: 0.0066 - dense_49_mse: 0.0061 - comfortable_mse: 0.0066 - val_loss: 0.0113 - val_dense_49_loss: 0.0052 - val_comfortable_loss: 0.0061 - val_dense_49_mse: 0.0052 - val_comfortable_mse: 0.0061\n",
      "Epoch 19/100\n",
      "46/46 [==============================] - 1s 21ms/step - loss: 0.0123 - dense_49_loss: 0.0058 - comfortable_loss: 0.0066 - dense_49_mse: 0.0058 - comfortable_mse: 0.0066 - val_loss: 0.0111 - val_dense_49_loss: 0.0049 - val_comfortable_loss: 0.0062 - val_dense_49_mse: 0.0049 - val_comfortable_mse: 0.0062\n",
      "Epoch 20/100\n",
      "46/46 [==============================] - 1s 22ms/step - loss: 0.0120 - dense_49_loss: 0.0054 - comfortable_loss: 0.0066 - dense_49_mse: 0.0054 - comfortable_mse: 0.0066 - val_loss: 0.0109 - val_dense_49_loss: 0.0046 - val_comfortable_loss: 0.0064 - val_dense_49_mse: 0.0046 - val_comfortable_mse: 0.0064\n",
      "Epoch 21/100\n",
      "46/46 [==============================] - 1s 18ms/step - loss: 0.0118 - dense_49_loss: 0.0051 - comfortable_loss: 0.0067 - dense_49_mse: 0.0051 - comfortable_mse: 0.0067 - val_loss: 0.0108 - val_dense_49_loss: 0.0043 - val_comfortable_loss: 0.0065 - val_dense_49_mse: 0.0043 - val_comfortable_mse: 0.0065\n",
      "Epoch 22/100\n",
      "46/46 [==============================] - 1s 17ms/step - loss: 0.0116 - dense_49_loss: 0.0048 - comfortable_loss: 0.0068 - dense_49_mse: 0.0048 - comfortable_mse: 0.0068 - val_loss: 0.0106 - val_dense_49_loss: 0.0040 - val_comfortable_loss: 0.0066 - val_dense_49_mse: 0.0040 - val_comfortable_mse: 0.0066\n",
      "Epoch 23/100\n",
      "46/46 [==============================] - 1s 16ms/step - loss: 0.0114 - dense_49_loss: 0.0045 - comfortable_loss: 0.0069 - dense_49_mse: 0.0045 - comfortable_mse: 0.0069 - val_loss: 0.0104 - val_dense_49_loss: 0.0037 - val_comfortable_loss: 0.0066 - val_dense_49_mse: 0.0037 - val_comfortable_mse: 0.0066\n",
      "Epoch 24/100\n",
      "46/46 [==============================] - 1s 16ms/step - loss: 0.0112 - dense_49_loss: 0.0043 - comfortable_loss: 0.0069 - dense_49_mse: 0.0043 - comfortable_mse: 0.0069 - val_loss: 0.0102 - val_dense_49_loss: 0.0035 - val_comfortable_loss: 0.0067 - val_dense_49_mse: 0.0035 - val_comfortable_mse: 0.0067\n",
      "Epoch 25/100\n",
      "46/46 [==============================] - 1s 16ms/step - loss: 0.0110 - dense_49_loss: 0.0040 - comfortable_loss: 0.0070 - dense_49_mse: 0.0040 - comfortable_mse: 0.0070 - val_loss: 0.0103 - val_dense_49_loss: 0.0033 - val_comfortable_loss: 0.0070 - val_dense_49_mse: 0.0033 - val_comfortable_mse: 0.0070\n",
      "Epoch 26/100\n",
      "46/46 [==============================] - 1s 16ms/step - loss: 0.0110 - dense_49_loss: 0.0038 - comfortable_loss: 0.0072 - dense_49_mse: 0.0038 - comfortable_mse: 0.0072 - val_loss: 0.0105 - val_dense_49_loss: 0.0031 - val_comfortable_loss: 0.0074 - val_dense_49_mse: 0.0031 - val_comfortable_mse: 0.0074\n",
      "Epoch 27/100\n",
      "46/46 [==============================] - 1s 16ms/step - loss: 0.0111 - dense_49_loss: 0.0036 - comfortable_loss: 0.0076 - dense_49_mse: 0.0036 - comfortable_mse: 0.0076 - val_loss: 0.0104 - val_dense_49_loss: 0.0028 - val_comfortable_loss: 0.0076 - val_dense_49_mse: 0.0028 - val_comfortable_mse: 0.0076\n",
      "Epoch 28/100\n",
      "46/46 [==============================] - 1s 16ms/step - loss: 0.0110 - dense_49_loss: 0.0033 - comfortable_loss: 0.0077 - dense_49_mse: 0.0033 - comfortable_mse: 0.0077 - val_loss: 0.0095 - val_dense_49_loss: 0.0026 - val_comfortable_loss: 0.0069 - val_dense_49_mse: 0.0026 - val_comfortable_mse: 0.0069\n",
      "Epoch 29/100\n",
      "46/46 [==============================] - 1s 17ms/step - loss: 0.0102 - dense_49_loss: 0.0031 - comfortable_loss: 0.0072 - dense_49_mse: 0.0031 - comfortable_mse: 0.0072 - val_loss: 0.0083 - val_dense_49_loss: 0.0024 - val_comfortable_loss: 0.0059 - val_dense_49_mse: 0.0024 - val_comfortable_mse: 0.0059\n",
      "Epoch 30/100\n",
      "46/46 [==============================] - 1s 16ms/step - loss: 0.0093 - dense_49_loss: 0.0028 - comfortable_loss: 0.0065 - dense_49_mse: 0.0028 - comfortable_mse: 0.0065 - val_loss: 0.0074 - val_dense_49_loss: 0.0022 - val_comfortable_loss: 0.0052 - val_dense_49_mse: 0.0022 - val_comfortable_mse: 0.0052\n",
      "Epoch 31/100\n",
      "46/46 [==============================] - 1s 16ms/step - loss: 0.0087 - dense_49_loss: 0.0027 - comfortable_loss: 0.0060 - dense_49_mse: 0.0027 - comfortable_mse: 0.0060 - val_loss: 0.0068 - val_dense_49_loss: 0.0020 - val_comfortable_loss: 0.0048 - val_dense_49_mse: 0.0020 - val_comfortable_mse: 0.0048\n",
      "Epoch 32/100\n",
      "46/46 [==============================] - 1s 16ms/step - loss: 0.0087 - dense_49_loss: 0.0026 - comfortable_loss: 0.0061 - dense_49_mse: 0.0026 - comfortable_mse: 0.0061 - val_loss: 0.0066 - val_dense_49_loss: 0.0019 - val_comfortable_loss: 0.0047 - val_dense_49_mse: 0.0019 - val_comfortable_mse: 0.0047\n",
      "Epoch 33/100\n",
      "46/46 [==============================] - 1s 16ms/step - loss: 0.0091 - dense_49_loss: 0.0026 - comfortable_loss: 0.0065 - dense_49_mse: 0.0026 - comfortable_mse: 0.0065 - val_loss: 0.0071 - val_dense_49_loss: 0.0017 - val_comfortable_loss: 0.0053 - val_dense_49_mse: 0.0017 - val_comfortable_mse: 0.0053\n",
      "Epoch 34/100\n",
      "46/46 [==============================] - 1s 16ms/step - loss: 0.0096 - dense_49_loss: 0.0026 - comfortable_loss: 0.0070 - dense_49_mse: 0.0026 - comfortable_mse: 0.0070 - val_loss: 0.0080 - val_dense_49_loss: 0.0016 - val_comfortable_loss: 0.0063 - val_dense_49_mse: 0.0016 - val_comfortable_mse: 0.0063\n",
      "Epoch 35/100\n",
      "46/46 [==============================] - 1s 16ms/step - loss: 0.0095 - dense_49_loss: 0.0024 - comfortable_loss: 0.0071 - dense_49_mse: 0.0024 - comfortable_mse: 0.0071 - val_loss: 0.0080 - val_dense_49_loss: 0.0015 - val_comfortable_loss: 0.0065 - val_dense_49_mse: 0.0015 - val_comfortable_mse: 0.0065\n",
      "Epoch 36/100\n",
      "46/46 [==============================] - 1s 17ms/step - loss: 0.0087 - dense_49_loss: 0.0020 - comfortable_loss: 0.0067 - dense_49_mse: 0.0020 - comfortable_mse: 0.0067 - val_loss: 0.0070 - val_dense_49_loss: 0.0013 - val_comfortable_loss: 0.0057 - val_dense_49_mse: 0.0013 - val_comfortable_mse: 0.0057\n",
      "Epoch 37/100\n",
      "46/46 [==============================] - 1s 17ms/step - loss: 0.0075 - dense_49_loss: 0.0017 - comfortable_loss: 0.0059 - dense_49_mse: 0.0017 - comfortable_mse: 0.0059 - val_loss: 0.0063 - val_dense_49_loss: 0.0012 - val_comfortable_loss: 0.0052 - val_dense_49_mse: 0.0012 - val_comfortable_mse: 0.0052\n",
      "Epoch 38/100\n",
      "46/46 [==============================] - 1s 17ms/step - loss: 0.0069 - dense_49_loss: 0.0014 - comfortable_loss: 0.0055 - dense_49_mse: 0.0014 - comfortable_mse: 0.0055 - val_loss: 0.0065 - val_dense_49_loss: 0.0011 - val_comfortable_loss: 0.0054 - val_dense_49_mse: 0.0011 - val_comfortable_mse: 0.0054\n",
      "Epoch 39/100\n",
      "46/46 [==============================] - 1s 19ms/step - loss: 0.0070 - dense_49_loss: 0.0013 - comfortable_loss: 0.0057 - dense_49_mse: 0.0013 - comfortable_mse: 0.0057 - val_loss: 0.0072 - val_dense_49_loss: 0.0010 - val_comfortable_loss: 0.0062 - val_dense_49_mse: 0.0010 - val_comfortable_mse: 0.0062\n",
      "Epoch 40/100\n",
      "46/46 [==============================] - 1s 20ms/step - loss: 0.0078 - dense_49_loss: 0.0012 - comfortable_loss: 0.0066 - dense_49_mse: 0.0012 - comfortable_mse: 0.0066 - val_loss: 0.0084 - val_dense_49_loss: 9.5780e-04 - val_comfortable_loss: 0.0074 - val_dense_49_mse: 9.5780e-04 - val_comfortable_mse: 0.0074\n",
      "Epoch 41/100\n",
      "46/46 [==============================] - 1s 17ms/step - loss: 0.0088 - dense_49_loss: 0.0012 - comfortable_loss: 0.0076 - dense_49_mse: 0.0012 - comfortable_mse: 0.0076 - val_loss: 0.0088 - val_dense_49_loss: 9.3099e-04 - val_comfortable_loss: 0.0079 - val_dense_49_mse: 9.3099e-04 - val_comfortable_mse: 0.0079\n",
      "Epoch 42/100\n",
      "46/46 [==============================] - 1s 15ms/step - loss: 0.0089 - dense_49_loss: 0.0011 - comfortable_loss: 0.0077 - dense_49_mse: 0.0011 - comfortable_mse: 0.0077 - val_loss: 0.0071 - val_dense_49_loss: 8.9350e-04 - val_comfortable_loss: 0.0062 - val_dense_49_mse: 8.9350e-04 - val_comfortable_mse: 0.0062\n",
      "Epoch 43/100\n",
      "46/46 [==============================] - 1s 16ms/step - loss: 0.0074 - dense_49_loss: 0.0010 - comfortable_loss: 0.0064 - dense_49_mse: 0.0010 - comfortable_mse: 0.0064 - val_loss: 0.0053 - val_dense_49_loss: 8.4877e-04 - val_comfortable_loss: 0.0044 - val_dense_49_mse: 8.4877e-04 - val_comfortable_mse: 0.0044\n",
      "Epoch 44/100\n",
      "46/46 [==============================] - 1s 18ms/step - loss: 0.0061 - dense_49_loss: 0.0010 - comfortable_loss: 0.0051 - dense_49_mse: 0.0010 - comfortable_mse: 0.0051 - val_loss: 0.0044 - val_dense_49_loss: 8.8937e-04 - val_comfortable_loss: 0.0036 - val_dense_49_mse: 8.8937e-04 - val_comfortable_mse: 0.0036\n",
      "Epoch 45/100\n",
      "46/46 [==============================] - 1s 18ms/step - loss: 0.0061 - dense_49_loss: 0.0012 - comfortable_loss: 0.0049 - dense_49_mse: 0.0012 - comfortable_mse: 0.0049 - val_loss: 0.0042 - val_dense_49_loss: 0.0010 - val_comfortable_loss: 0.0032 - val_dense_49_mse: 0.0010 - val_comfortable_mse: 0.0032\n",
      "Epoch 46/100\n",
      "46/46 [==============================] - 1s 18ms/step - loss: 0.0075 - dense_49_loss: 0.0018 - comfortable_loss: 0.0057 - dense_49_mse: 0.0018 - comfortable_mse: 0.0057 - val_loss: 0.0038 - val_dense_49_loss: 0.0012 - val_comfortable_loss: 0.0027 - val_dense_49_mse: 0.0012 - val_comfortable_mse: 0.0027\n",
      "Epoch 47/100\n",
      "46/46 [==============================] - 1s 18ms/step - loss: 0.0095 - dense_49_loss: 0.0025 - comfortable_loss: 0.0070 - dense_49_mse: 0.0025 - comfortable_mse: 0.0070 - val_loss: 0.0039 - val_dense_49_loss: 0.0010 - val_comfortable_loss: 0.0029 - val_dense_49_mse: 0.0010 - val_comfortable_mse: 0.0029\n",
      "Epoch 48/100\n",
      "46/46 [==============================] - 1s 18ms/step - loss: 0.0087 - dense_49_loss: 0.0023 - comfortable_loss: 0.0064 - dense_49_mse: 0.0023 - comfortable_mse: 0.0064 - val_loss: 0.0051 - val_dense_49_loss: 8.1701e-04 - val_comfortable_loss: 0.0043 - val_dense_49_mse: 8.1701e-04 - val_comfortable_mse: 0.0043\n",
      "Epoch 49/100\n",
      "46/46 [==============================] - 1s 18ms/step - loss: 0.0051 - dense_49_loss: 0.0013 - comfortable_loss: 0.0039 - dense_49_mse: 0.0013 - comfortable_mse: 0.0039 - val_loss: 0.0036 - val_dense_49_loss: 5.6927e-04 - val_comfortable_loss: 0.0030 - val_dense_49_mse: 5.6927e-04 - val_comfortable_mse: 0.0030\n",
      "Epoch 50/100\n",
      "46/46 [==============================] - 1s 18ms/step - loss: 0.0035 - dense_49_loss: 7.6313e-04 - comfortable_loss: 0.0028 - dense_49_mse: 7.6313e-04 - comfortable_mse: 0.0028 - val_loss: 0.0031 - val_dense_49_loss: 4.6869e-04 - val_comfortable_loss: 0.0027 - val_dense_49_mse: 4.6869e-04 - val_comfortable_mse: 0.0027\n",
      "Epoch 51/100\n",
      "46/46 [==============================] - 1s 17ms/step - loss: 0.0033 - dense_49_loss: 5.6805e-04 - comfortable_loss: 0.0028 - dense_49_mse: 5.6805e-04 - comfortable_mse: 0.0028 - val_loss: 0.0038 - val_dense_49_loss: 4.3008e-04 - val_comfortable_loss: 0.0033 - val_dense_49_mse: 4.3008e-04 - val_comfortable_mse: 0.0033\n",
      "Epoch 52/100\n",
      "46/46 [==============================] - 1s 17ms/step - loss: 0.0039 - dense_49_loss: 5.0112e-04 - comfortable_loss: 0.0034 - dense_49_mse: 5.0112e-04 - comfortable_mse: 0.0034 - val_loss: 0.0052 - val_dense_49_loss: 4.3504e-04 - val_comfortable_loss: 0.0048 - val_dense_49_mse: 4.3504e-04 - val_comfortable_mse: 0.0048\n",
      "Epoch 53/100\n",
      "46/46 [==============================] - 1s 17ms/step - loss: 0.0051 - dense_49_loss: 4.9668e-04 - comfortable_loss: 0.0046 - dense_49_mse: 4.9668e-04 - comfortable_mse: 0.0046 - val_loss: 0.0068 - val_dense_49_loss: 4.8958e-04 - val_comfortable_loss: 0.0063 - val_dense_49_mse: 4.8958e-04 - val_comfortable_mse: 0.0063\n",
      "Epoch 54/100\n",
      "46/46 [==============================] - 1s 17ms/step - loss: 0.0063 - dense_49_loss: 5.2096e-04 - comfortable_loss: 0.0057 - dense_49_mse: 5.2096e-04 - comfortable_mse: 0.0057 - val_loss: 0.0071 - val_dense_49_loss: 5.4584e-04 - val_comfortable_loss: 0.0065 - val_dense_49_mse: 5.4584e-04 - val_comfortable_mse: 0.0065\n",
      "Epoch 55/100\n",
      "46/46 [==============================] - 1s 17ms/step - loss: 0.0064 - dense_49_loss: 5.1563e-04 - comfortable_loss: 0.0059 - dense_49_mse: 5.1563e-04 - comfortable_mse: 0.0059 - val_loss: 0.0066 - val_dense_49_loss: 5.3791e-04 - val_comfortable_loss: 0.0060 - val_dense_49_mse: 5.3791e-04 - val_comfortable_mse: 0.0060\n",
      "Epoch 56/100\n",
      "46/46 [==============================] - 1s 16ms/step - loss: 0.0061 - dense_49_loss: 4.8467e-04 - comfortable_loss: 0.0056 - dense_49_mse: 4.8467e-04 - comfortable_mse: 0.0056 - val_loss: 0.0062 - val_dense_49_loss: 5.0774e-04 - val_comfortable_loss: 0.0057 - val_dense_49_mse: 5.0774e-04 - val_comfortable_mse: 0.0057\n",
      "Epoch 57/100\n",
      "46/46 [==============================] - 1s 17ms/step - loss: 0.0058 - dense_49_loss: 4.6337e-04 - comfortable_loss: 0.0053 - dense_49_mse: 4.6337e-04 - comfortable_mse: 0.0053 - val_loss: 0.0059 - val_dense_49_loss: 4.9221e-04 - val_comfortable_loss: 0.0055 - val_dense_49_mse: 4.9221e-04 - val_comfortable_mse: 0.0055\n",
      "Epoch 58/100\n",
      "46/46 [==============================] - 1s 17ms/step - loss: 0.0056 - dense_49_loss: 4.6191e-04 - comfortable_loss: 0.0051 - dense_49_mse: 4.6191e-04 - comfortable_mse: 0.0051 - val_loss: 0.0057 - val_dense_49_loss: 4.9730e-04 - val_comfortable_loss: 0.0052 - val_dense_49_mse: 4.9730e-04 - val_comfortable_mse: 0.0052\n",
      "Epoch 59/100\n",
      "46/46 [==============================] - 1s 16ms/step - loss: 0.0053 - dense_49_loss: 4.8088e-04 - comfortable_loss: 0.0048 - dense_49_mse: 4.8088e-04 - comfortable_mse: 0.0048 - val_loss: 0.0052 - val_dense_49_loss: 5.2271e-04 - val_comfortable_loss: 0.0047 - val_dense_49_mse: 5.2271e-04 - val_comfortable_mse: 0.0047\n",
      "Epoch 60/100\n",
      "46/46 [==============================] - 1s 17ms/step - loss: 0.0049 - dense_49_loss: 5.1960e-04 - comfortable_loss: 0.0044 - dense_49_mse: 5.1960e-04 - comfortable_mse: 0.0044 - val_loss: 0.0048 - val_dense_49_loss: 5.7208e-04 - val_comfortable_loss: 0.0042 - val_dense_49_mse: 5.7208e-04 - val_comfortable_mse: 0.0042\n",
      "Epoch 61/100\n",
      "46/46 [==============================] - 1s 17ms/step - loss: 0.0046 - dense_49_loss: 5.8789e-04 - comfortable_loss: 0.0040 - dense_49_mse: 5.8789e-04 - comfortable_mse: 0.0040 - val_loss: 0.0047 - val_dense_49_loss: 6.5825e-04 - val_comfortable_loss: 0.0040 - val_dense_49_mse: 6.5825e-04 - val_comfortable_mse: 0.0040\n",
      "Epoch 62/100\n",
      "46/46 [==============================] - 1s 17ms/step - loss: 0.0045 - dense_49_loss: 7.0360e-04 - comfortable_loss: 0.0038 - dense_49_mse: 7.0360e-04 - comfortable_mse: 0.0038 - val_loss: 0.0049 - val_dense_49_loss: 7.8274e-04 - val_comfortable_loss: 0.0042 - val_dense_49_mse: 7.8274e-04 - val_comfortable_mse: 0.0042\n",
      "Epoch 63/100\n",
      "46/46 [==============================] - 1s 16ms/step - loss: 0.0049 - dense_49_loss: 8.7223e-04 - comfortable_loss: 0.0040 - dense_49_mse: 8.7223e-04 - comfortable_mse: 0.0040 - val_loss: 0.0055 - val_dense_49_loss: 9.1320e-04 - val_comfortable_loss: 0.0046 - val_dense_49_mse: 9.1320e-04 - val_comfortable_mse: 0.0046\n",
      "Epoch 64/100\n",
      "46/46 [==============================] - 1s 16ms/step - loss: 0.0057 - dense_49_loss: 0.0011 - comfortable_loss: 0.0046 - dense_49_mse: 0.0011 - comfortable_mse: 0.0046 - val_loss: 0.0060 - val_dense_49_loss: 9.7463e-04 - val_comfortable_loss: 0.0051 - val_dense_49_mse: 9.7463e-04 - val_comfortable_mse: 0.0051\n",
      "Epoch 65/100\n",
      "46/46 [==============================] - 1s 17ms/step - loss: 0.0069 - dense_49_loss: 0.0013 - comfortable_loss: 0.0056 - dense_49_mse: 0.0013 - comfortable_mse: 0.0056 - val_loss: 0.0065 - val_dense_49_loss: 8.7015e-04 - val_comfortable_loss: 0.0056 - val_dense_49_mse: 8.7015e-04 - val_comfortable_mse: 0.0056\n",
      "Epoch 66/100\n",
      "46/46 [==============================] - 1s 16ms/step - loss: 0.0086 - dense_49_loss: 0.0015 - comfortable_loss: 0.0071 - dense_49_mse: 0.0015 - comfortable_mse: 0.0071 - val_loss: 0.0079 - val_dense_49_loss: 6.5001e-04 - val_comfortable_loss: 0.0073 - val_dense_49_mse: 6.5001e-04 - val_comfortable_mse: 0.0073\n",
      "Epoch 67/100\n",
      "46/46 [==============================] - 1s 17ms/step - loss: 0.0103 - dense_49_loss: 0.0015 - comfortable_loss: 0.0088 - dense_49_mse: 0.0015 - comfortable_mse: 0.0088 - val_loss: 0.0101 - val_dense_49_loss: 5.2097e-04 - val_comfortable_loss: 0.0096 - val_dense_49_mse: 5.2097e-04 - val_comfortable_mse: 0.0096\n",
      "Epoch 68/100\n",
      "46/46 [==============================] - 1s 17ms/step - loss: 0.0104 - dense_49_loss: 0.0012 - comfortable_loss: 0.0093 - dense_49_mse: 0.0012 - comfortable_mse: 0.0093 - val_loss: 0.0078 - val_dense_49_loss: 3.6277e-04 - val_comfortable_loss: 0.0074 - val_dense_49_mse: 3.6277e-04 - val_comfortable_mse: 0.0074\n",
      "Epoch 69/100\n",
      "46/46 [==============================] - 1s 17ms/step - loss: 0.0082 - dense_49_loss: 7.1605e-04 - comfortable_loss: 0.0075 - dense_49_mse: 7.1605e-04 - comfortable_mse: 0.0075 - val_loss: 0.0053 - val_dense_49_loss: 2.9344e-04 - val_comfortable_loss: 0.0050 - val_dense_49_mse: 2.9344e-04 - val_comfortable_mse: 0.0050\n",
      "Epoch 70/100\n",
      "46/46 [==============================] - 1s 17ms/step - loss: 0.0059 - dense_49_loss: 4.7467e-04 - comfortable_loss: 0.0054 - dense_49_mse: 4.7467e-04 - comfortable_mse: 0.0054 - val_loss: 0.0041 - val_dense_49_loss: 2.6310e-04 - val_comfortable_loss: 0.0039 - val_dense_49_mse: 2.6310e-04 - val_comfortable_mse: 0.0039\n",
      "Epoch 71/100\n",
      "46/46 [==============================] - 1s 23ms/step - loss: 0.0045 - dense_49_loss: 3.6108e-04 - comfortable_loss: 0.0041 - dense_49_mse: 3.6108e-04 - comfortable_mse: 0.0041 - val_loss: 0.0038 - val_dense_49_loss: 2.3838e-04 - val_comfortable_loss: 0.0036 - val_dense_49_mse: 2.3838e-04 - val_comfortable_mse: 0.0036\n",
      "Epoch 72/100\n",
      "46/46 [==============================] - 1s 17ms/step - loss: 0.0039 - dense_49_loss: 3.0193e-04 - comfortable_loss: 0.0036 - dense_49_mse: 3.0193e-04 - comfortable_mse: 0.0036 - val_loss: 0.0041 - val_dense_49_loss: 2.2577e-04 - val_comfortable_loss: 0.0039 - val_dense_49_mse: 2.2577e-04 - val_comfortable_mse: 0.0039\n",
      "Epoch 73/100\n",
      "46/46 [==============================] - 1s 17ms/step - loss: 0.0041 - dense_49_loss: 2.7876e-04 - comfortable_loss: 0.0038 - dense_49_mse: 2.7876e-04 - comfortable_mse: 0.0038 - val_loss: 0.0050 - val_dense_49_loss: 2.2818e-04 - val_comfortable_loss: 0.0047 - val_dense_49_mse: 2.2818e-04 - val_comfortable_mse: 0.0047\n",
      "Epoch 74/100\n",
      "46/46 [==============================] - 1s 16ms/step - loss: 0.0048 - dense_49_loss: 2.8500e-04 - comfortable_loss: 0.0045 - dense_49_mse: 2.8500e-04 - comfortable_mse: 0.0045 - val_loss: 0.0060 - val_dense_49_loss: 2.4325e-04 - val_comfortable_loss: 0.0058 - val_dense_49_mse: 2.4325e-04 - val_comfortable_mse: 0.0058\n",
      "Epoch 75/100\n",
      "46/46 [==============================] - 1s 16ms/step - loss: 0.0057 - dense_49_loss: 3.1347e-04 - comfortable_loss: 0.0054 - dense_49_mse: 3.1347e-04 - comfortable_mse: 0.0054 - val_loss: 0.0071 - val_dense_49_loss: 2.6127e-04 - val_comfortable_loss: 0.0069 - val_dense_49_mse: 2.6127e-04 - val_comfortable_mse: 0.0069\n",
      "Epoch 76/100\n",
      "46/46 [==============================] - 1s 17ms/step - loss: 0.0067 - dense_49_loss: 3.5902e-04 - comfortable_loss: 0.0063 - dense_49_mse: 3.5902e-04 - comfortable_mse: 0.0063 - val_loss: 0.0079 - val_dense_49_loss: 2.7240e-04 - val_comfortable_loss: 0.0076 - val_dense_49_mse: 2.7240e-04 - val_comfortable_mse: 0.0076\n",
      "Epoch 77/100\n",
      "46/46 [==============================] - 1s 17ms/step - loss: 0.0073 - dense_49_loss: 4.0195e-04 - comfortable_loss: 0.0069 - dense_49_mse: 4.0195e-04 - comfortable_mse: 0.0069 - val_loss: 0.0069 - val_dense_49_loss: 2.6264e-04 - val_comfortable_loss: 0.0066 - val_dense_49_mse: 2.6264e-04 - val_comfortable_mse: 0.0066\n",
      "Epoch 78/100\n",
      "46/46 [==============================] - 1s 17ms/step - loss: 0.0065 - dense_49_loss: 3.8549e-04 - comfortable_loss: 0.0061 - dense_49_mse: 3.8549e-04 - comfortable_mse: 0.0061 - val_loss: 0.0051 - val_dense_49_loss: 2.2806e-04 - val_comfortable_loss: 0.0048 - val_dense_49_mse: 2.2806e-04 - val_comfortable_mse: 0.0048\n",
      "Epoch 79/100\n",
      "46/46 [==============================] - 1s 16ms/step - loss: 0.0050 - dense_49_loss: 3.3953e-04 - comfortable_loss: 0.0047 - dense_49_mse: 3.3953e-04 - comfortable_mse: 0.0047 - val_loss: 0.0039 - val_dense_49_loss: 2.0489e-04 - val_comfortable_loss: 0.0037 - val_dense_49_mse: 2.0489e-04 - val_comfortable_mse: 0.0037\n",
      "Epoch 80/100\n",
      "46/46 [==============================] - 1s 17ms/step - loss: 0.0041 - dense_49_loss: 3.3346e-04 - comfortable_loss: 0.0038 - dense_49_mse: 3.3346e-04 - comfortable_mse: 0.0038 - val_loss: 0.0036 - val_dense_49_loss: 2.1526e-04 - val_comfortable_loss: 0.0033 - val_dense_49_mse: 2.1526e-04 - val_comfortable_mse: 0.0033\n",
      "Epoch 81/100\n",
      "46/46 [==============================] - 1s 16ms/step - loss: 0.0040 - dense_49_loss: 3.8736e-04 - comfortable_loss: 0.0036 - dense_49_mse: 3.8736e-04 - comfortable_mse: 0.0036 - val_loss: 0.0038 - val_dense_49_loss: 2.7089e-04 - val_comfortable_loss: 0.0035 - val_dense_49_mse: 2.7089e-04 - val_comfortable_mse: 0.0035\n",
      "Epoch 82/100\n",
      "46/46 [==============================] - 1s 16ms/step - loss: 0.0045 - dense_49_loss: 5.1418e-04 - comfortable_loss: 0.0040 - dense_49_mse: 5.1418e-04 - comfortable_mse: 0.0040 - val_loss: 0.0047 - val_dense_49_loss: 3.8189e-04 - val_comfortable_loss: 0.0043 - val_dense_49_mse: 3.8189e-04 - val_comfortable_mse: 0.0043\n",
      "Epoch 83/100\n",
      "46/46 [==============================] - 1s 16ms/step - loss: 0.0059 - dense_49_loss: 7.4275e-04 - comfortable_loss: 0.0051 - dense_49_mse: 7.4275e-04 - comfortable_mse: 0.0051 - val_loss: 0.0058 - val_dense_49_loss: 5.2857e-04 - val_comfortable_loss: 0.0053 - val_dense_49_mse: 5.2857e-04 - val_comfortable_mse: 0.0053\n",
      "Epoch 84/100\n",
      "46/46 [==============================] - 1s 17ms/step - loss: 0.0079 - dense_49_loss: 0.0011 - comfortable_loss: 0.0068 - dense_49_mse: 0.0011 - comfortable_mse: 0.0068 - val_loss: 0.0058 - val_dense_49_loss: 5.8931e-04 - val_comfortable_loss: 0.0052 - val_dense_49_mse: 5.8931e-04 - val_comfortable_mse: 0.0052\n",
      "Epoch 85/100\n",
      "46/46 [==============================] - 1s 17ms/step - loss: 0.0094 - dense_49_loss: 0.0015 - comfortable_loss: 0.0078 - dense_49_mse: 0.0015 - comfortable_mse: 0.0078 - val_loss: 0.0047 - val_dense_49_loss: 5.0086e-04 - val_comfortable_loss: 0.0042 - val_dense_49_mse: 5.0086e-04 - val_comfortable_mse: 0.0042\n",
      "Epoch 86/100\n",
      "46/46 [==============================] - 1s 17ms/step - loss: 0.0085 - dense_49_loss: 0.0016 - comfortable_loss: 0.0068 - dense_49_mse: 0.0016 - comfortable_mse: 0.0068 - val_loss: 0.0058 - val_dense_49_loss: 5.3580e-04 - val_comfortable_loss: 0.0053 - val_dense_49_mse: 5.3580e-04 - val_comfortable_mse: 0.0053\n",
      "Epoch 87/100\n",
      "46/46 [==============================] - 1s 18ms/step - loss: 0.0056 - dense_49_loss: 0.0012 - comfortable_loss: 0.0044 - dense_49_mse: 0.0012 - comfortable_mse: 0.0044 - val_loss: 0.0056 - val_dense_49_loss: 5.2312e-04 - val_comfortable_loss: 0.0051 - val_dense_49_mse: 5.2312e-04 - val_comfortable_mse: 0.0051\n",
      "Epoch 88/100\n",
      "46/46 [==============================] - 1s 17ms/step - loss: 0.0034 - dense_49_loss: 6.7697e-04 - comfortable_loss: 0.0027 - dense_49_mse: 6.7697e-04 - comfortable_mse: 0.0027 - val_loss: 0.0034 - val_dense_49_loss: 4.2944e-04 - val_comfortable_loss: 0.0030 - val_dense_49_mse: 4.2944e-04 - val_comfortable_mse: 0.0030\n",
      "Epoch 89/100\n",
      "46/46 [==============================] - 1s 16ms/step - loss: 0.0029 - dense_49_loss: 5.1597e-04 - comfortable_loss: 0.0024 - dense_49_mse: 5.1597e-04 - comfortable_mse: 0.0024 - val_loss: 0.0022 - val_dense_49_loss: 3.1295e-04 - val_comfortable_loss: 0.0019 - val_dense_49_mse: 3.1295e-04 - val_comfortable_mse: 0.0019\n",
      "Epoch 90/100\n",
      "46/46 [==============================] - 1s 16ms/step - loss: 0.0033 - dense_49_loss: 5.5730e-04 - comfortable_loss: 0.0027 - dense_49_mse: 5.5730e-04 - comfortable_mse: 0.0027 - val_loss: 0.0023 - val_dense_49_loss: 2.3919e-04 - val_comfortable_loss: 0.0021 - val_dense_49_mse: 2.3919e-04 - val_comfortable_mse: 0.0021\n",
      "Epoch 91/100\n",
      "46/46 [==============================] - 1s 18ms/step - loss: 0.0037 - dense_49_loss: 6.0687e-04 - comfortable_loss: 0.0031 - dense_49_mse: 6.0687e-04 - comfortable_mse: 0.0031 - val_loss: 0.0029 - val_dense_49_loss: 2.0339e-04 - val_comfortable_loss: 0.0026 - val_dense_49_mse: 2.0339e-04 - val_comfortable_mse: 0.0026\n",
      "Epoch 92/100\n",
      "46/46 [==============================] - 1s 17ms/step - loss: 0.0039 - dense_49_loss: 5.6611e-04 - comfortable_loss: 0.0033 - dense_49_mse: 5.6611e-04 - comfortable_mse: 0.0033 - val_loss: 0.0034 - val_dense_49_loss: 1.8565e-04 - val_comfortable_loss: 0.0032 - val_dense_49_mse: 1.8565e-04 - val_comfortable_mse: 0.0032\n",
      "Epoch 93/100\n",
      "46/46 [==============================] - 1s 16ms/step - loss: 0.0040 - dense_49_loss: 4.6596e-04 - comfortable_loss: 0.0035 - dense_49_mse: 4.6596e-04 - comfortable_mse: 0.0035 - val_loss: 0.0038 - val_dense_49_loss: 1.7538e-04 - val_comfortable_loss: 0.0037 - val_dense_49_mse: 1.7538e-04 - val_comfortable_mse: 0.0037\n",
      "Epoch 94/100\n",
      "46/46 [==============================] - 1s 16ms/step - loss: 0.0042 - dense_49_loss: 3.6961e-04 - comfortable_loss: 0.0038 - dense_49_mse: 3.6961e-04 - comfortable_mse: 0.0038 - val_loss: 0.0042 - val_dense_49_loss: 1.7037e-04 - val_comfortable_loss: 0.0040 - val_dense_49_mse: 1.7037e-04 - val_comfortable_mse: 0.0040\n",
      "Epoch 95/100\n",
      "46/46 [==============================] - 1s 18ms/step - loss: 0.0044 - dense_49_loss: 3.0449e-04 - comfortable_loss: 0.0040 - dense_49_mse: 3.0449e-04 - comfortable_mse: 0.0040 - val_loss: 0.0045 - val_dense_49_loss: 1.7050e-04 - val_comfortable_loss: 0.0043 - val_dense_49_mse: 1.7050e-04 - val_comfortable_mse: 0.0043\n",
      "Epoch 96/100\n",
      "46/46 [==============================] - 1s 18ms/step - loss: 0.0046 - dense_49_loss: 2.6972e-04 - comfortable_loss: 0.0043 - dense_49_mse: 2.6972e-04 - comfortable_mse: 0.0043 - val_loss: 0.0048 - val_dense_49_loss: 1.7569e-04 - val_comfortable_loss: 0.0046 - val_dense_49_mse: 1.7569e-04 - val_comfortable_mse: 0.0046\n",
      "Epoch 97/100\n",
      "46/46 [==============================] - 1s 19ms/step - loss: 0.0048 - dense_49_loss: 2.5624e-04 - comfortable_loss: 0.0045 - dense_49_mse: 2.5624e-04 - comfortable_mse: 0.0045 - val_loss: 0.0050 - val_dense_49_loss: 1.8455e-04 - val_comfortable_loss: 0.0048 - val_dense_49_mse: 1.8455e-04 - val_comfortable_mse: 0.0048\n",
      "Epoch 98/100\n",
      "46/46 [==============================] - 1s 17ms/step - loss: 0.0049 - dense_49_loss: 2.5423e-04 - comfortable_loss: 0.0047 - dense_49_mse: 2.5423e-04 - comfortable_mse: 0.0047 - val_loss: 0.0050 - val_dense_49_loss: 1.9193e-04 - val_comfortable_loss: 0.0048 - val_dense_49_mse: 1.9193e-04 - val_comfortable_mse: 0.0048\n",
      "Epoch 99/100\n",
      "46/46 [==============================] - 1s 17ms/step - loss: 0.0049 - dense_49_loss: 2.5390e-04 - comfortable_loss: 0.0047 - dense_49_mse: 2.5390e-04 - comfortable_mse: 0.0047 - val_loss: 0.0049 - val_dense_49_loss: 1.9410e-04 - val_comfortable_loss: 0.0047 - val_dense_49_mse: 1.9410e-04 - val_comfortable_mse: 0.0047\n",
      "Epoch 100/100\n",
      "46/46 [==============================] - 1s 17ms/step - loss: 0.0048 - dense_49_loss: 2.4715e-04 - comfortable_loss: 0.0045 - dense_49_mse: 2.4715e-04 - comfortable_mse: 0.0045 - val_loss: 0.0050 - val_dense_49_loss: 1.9899e-04 - val_comfortable_loss: 0.0048 - val_dense_49_mse: 1.9899e-04 - val_comfortable_mse: 0.0048\n"
     ]
    },
    {
     "data": {
      "text/plain": "<keras.callbacks.History at 0x252a0202260>"
     },
     "execution_count": 319,
     "metadata": {},
     "output_type": "execute_result"
    }
   ],
   "source": [
    "model.fit(proc_ds_train, validation_data=proc_ds_test, batch_size=BATCH_SIZE, epochs=EPOCHS)"
   ],
   "metadata": {
    "collapsed": false,
    "pycharm": {
     "name": "#%%\n"
    }
   }
  },
  {
   "cell_type": "code",
   "execution_count": 320,
   "outputs": [
    {
     "data": {
      "text/plain": "array([[[ 0.14423195,  0.14862101,  0.15005642, ...,  0.14219286,\n          0.1230441 ,  0.13913092],\n        [ 0.03811274,  0.04873138,  0.05399081, ...,  0.04322451,\n          0.02349218,  0.02993505],\n        [ 0.01910932,  0.03163071,  0.03587838, ...,  0.0287363 ,\n          0.01030125,  0.01106066],\n        ...,\n        [ 0.06930181,  0.0727781 ,  0.0775026 , ...,  0.08255975,\n          0.06905741,  0.06362598],\n        [ 0.19335532,  0.1870353 ,  0.18799739, ...,  0.20389186,\n          0.19270526,  0.1910504 ],\n        [ 0.14154667,  0.1354674 ,  0.14302225, ...,  0.14897177,\n          0.13611922,  0.13751039]],\n\n       [[ 0.08476141,  0.09205887,  0.09661368, ...,  0.08485691,\n          0.06447164,  0.07748411],\n        [ 0.02162302,  0.03351732,  0.03907268, ...,  0.02846817,\n          0.00882754,  0.01308212],\n        [ 0.05739913,  0.06828386,  0.06988461, ...,  0.0668349 ,\n          0.0489446 ,  0.05090268],\n        ...,\n        [ 0.19434848,  0.18976821,  0.18898936, ...,  0.20559452,\n          0.19382827,  0.19200888],\n        [ 0.14268127,  0.13811763,  0.14403945, ...,  0.15081598,\n          0.13743089,  0.13861348],\n        [ 0.23918119,  0.22740035,  0.23139766, ...,  0.24543343,\n          0.2342163 ,  0.2377704 ]],\n\n       [[ 0.08277061,  0.09007038,  0.09488606, ...,  0.08294918,\n          0.06248134,  0.07544152],\n        [ 0.06130431,  0.07103454,  0.0747259 , ...,  0.06662457,\n          0.04731387,  0.05429253],\n        [-0.00171445,  0.01137777,  0.01742847, ...,  0.00891209,\n         -0.00960757, -0.01046738],\n        ...,\n        [ 0.14407249,  0.14137371,  0.1453745 , ...,  0.15292716,\n          0.13888161,  0.14000662],\n        [ 0.24040186,  0.23044752,  0.232538  , ...,  0.2474674 ,\n          0.23571563,  0.23899858],\n        [ 0.19806105,  0.18933672,  0.19558382, ...,  0.20289461,\n          0.18960644,  0.19558805]],\n\n       ...,\n\n       [[ 0.3714518 ,  0.36502397,  0.35787988, ...,  0.36710945,\n          0.35472453,  0.3711536 ],\n        [ 0.37362397,  0.36574334,  0.35958987, ...,  0.36857414,\n          0.35375097,  0.3721184 ],\n        [ 0.35673591,  0.3489258 ,  0.34371307, ...,  0.35139838,\n          0.33372828,  0.35399142],\n        ...,\n        [ 0.26687837,  0.26591712,  0.26301128, ...,  0.26727295,\n          0.24865925,  0.26410988],\n        [ 0.30488303,  0.30219197,  0.29823098, ...,  0.30657834,\n          0.2906068 ,  0.30383238],\n        [ 0.35384327,  0.34843144,  0.34407085, ...,  0.35643595,\n          0.34285843,  0.35434577]],\n\n       [[ 0.3714178 ,  0.36485907,  0.35790393, ...,  0.36703008,\n          0.35466796,  0.3711554 ],\n        [ 0.35389394,  0.34678876,  0.3412771 , ...,  0.34867516,\n          0.33291572,  0.35225463],\n        [ 0.34154144,  0.33453   ,  0.32962453, ...,  0.3367076 ,\n          0.31822762,  0.33874682],\n        ...,\n        [ 0.3050857 ,  0.30166426,  0.29792354, ...,  0.3065216 ,\n          0.2909373 ,  0.3042308 ],\n        [ 0.35420895,  0.34801996,  0.3439393 , ...,  0.35652676,\n          0.3432606 ,  0.35480863],\n        [ 0.3123816 ,  0.307787  ,  0.30577987, ...,  0.3142469 ,\n          0.29912227,  0.31306782]],\n\n       [[ 0.35202068,  0.34629878,  0.3398271 , ...,  0.34748107,\n          0.3341531 ,  0.35155413],\n        [ 0.3387055 ,  0.33247852,  0.3271337 , ...,  0.33402953,\n          0.31744218,  0.336967  ],\n        [ 0.3251801 ,  0.3191872 ,  0.31479985, ...,  0.32103887,\n          0.3030662 ,  0.32287526],\n        ...,\n        [ 0.35455754,  0.34753832,  0.34372547, ...,  0.35658225,\n          0.343764  ,  0.35538483],\n        [ 0.31268665,  0.3072693 ,  0.30559748, ...,  0.31426278,\n          0.29948923,  0.31353363],\n        [ 0.2960769 ,  0.29139128,  0.29055154, ...,  0.29846862,\n          0.2836677 ,  0.29732957]]], dtype=float32)"
     },
     "execution_count": 320,
     "metadata": {},
     "output_type": "execute_result"
    }
   ],
   "source": [
    "preds = model.predict(proc_ds_train)\n",
    "preds[0]"
   ],
   "metadata": {
    "collapsed": false,
    "pycharm": {
     "name": "#%%\n"
    }
   }
  },
  {
   "cell_type": "code",
   "execution_count": 321,
   "outputs": [
    {
     "name": "stderr",
     "output_type": "stream",
     "text": [
      "C:\\Users\\lzh7522\\AppData\\Local\\Temp\\ipykernel_7732\\2196605390.py:2: VisibleDeprecationWarning: Creating an ndarray from ragged nested sequences (which is a list-or-tuple of lists-or-tuples-or ndarrays with different lengths or shapes) is deprecated. If you meant to do this, you must specify 'dtype=object' when creating the ndarray.\n",
      "  data = data * max\n"
     ]
    },
    {
     "ename": "ValueError",
     "evalue": "could not broadcast input array from shape (1443,10,10) into shape (1443,10)",
     "output_type": "error",
     "traceback": [
      "\u001B[1;31m---------------------------------------------------------------------------\u001B[0m",
      "\u001B[1;31mValueError\u001B[0m                                Traceback (most recent call last)",
      "Input \u001B[1;32mIn [321]\u001B[0m, in \u001B[0;36m<cell line: 6>\u001B[1;34m()\u001B[0m\n\u001B[0;32m      3\u001B[0m     data \u001B[38;5;241m=\u001B[39m data \u001B[38;5;241m+\u001B[39m \u001B[38;5;28mmin\u001B[39m\n\u001B[0;32m      4\u001B[0m     \u001B[38;5;28;01mreturn\u001B[39;00m data\n\u001B[1;32m----> 6\u001B[0m preds_unnormed \u001B[38;5;241m=\u001B[39m \u001B[43munnormalise\u001B[49m\u001B[43m(\u001B[49m\u001B[43mpreds\u001B[49m\u001B[43m,\u001B[49m\u001B[43m \u001B[49m\u001B[43mdata_train\u001B[49m\u001B[38;5;241;43m.\u001B[39;49m\u001B[43mmin\u001B[49m\u001B[43m(\u001B[49m\u001B[43maxis\u001B[49m\u001B[38;5;241;43m=\u001B[39;49m\u001B[38;5;241;43m0\u001B[39;49m\u001B[43m)\u001B[49m\u001B[43m,\u001B[49m\u001B[43m \u001B[49m\u001B[43mdata_train\u001B[49m\u001B[38;5;241;43m.\u001B[39;49m\u001B[43mmax\u001B[49m\u001B[43m(\u001B[49m\u001B[43maxis\u001B[49m\u001B[38;5;241;43m=\u001B[39;49m\u001B[38;5;241;43m0\u001B[39;49m\u001B[43m)\u001B[49m\u001B[43m)\u001B[49m\n\u001B[0;32m      7\u001B[0m preds_unnormed[\u001B[38;5;241m0\u001B[39m]\n",
      "Input \u001B[1;32mIn [321]\u001B[0m, in \u001B[0;36munnormalise\u001B[1;34m(data, min, max)\u001B[0m\n\u001B[0;32m      1\u001B[0m \u001B[38;5;28;01mdef\u001B[39;00m \u001B[38;5;21munnormalise\u001B[39m(data, \u001B[38;5;28mmin\u001B[39m, \u001B[38;5;28mmax\u001B[39m):  \u001B[38;5;66;03m# https://en.wikipedia.org/wiki/Feature_scaling\u001B[39;00m\n\u001B[1;32m----> 2\u001B[0m     data \u001B[38;5;241m=\u001B[39m \u001B[43mdata\u001B[49m\u001B[43m \u001B[49m\u001B[38;5;241;43m*\u001B[39;49m\u001B[43m \u001B[49m\u001B[38;5;28;43mmax\u001B[39;49m\n\u001B[0;32m      3\u001B[0m     data \u001B[38;5;241m=\u001B[39m data \u001B[38;5;241m+\u001B[39m \u001B[38;5;28mmin\u001B[39m\n\u001B[0;32m      4\u001B[0m     \u001B[38;5;28;01mreturn\u001B[39;00m data\n",
      "\u001B[1;31mValueError\u001B[0m: could not broadcast input array from shape (1443,10,10) into shape (1443,10)"
     ]
    }
   ],
   "source": [
    "def unnormalise(data, min, max):  # https://en.wikipedia.org/wiki/Feature_scaling\n",
    "    data = data * max\n",
    "    data = data + min\n",
    "    return data\n",
    "\n",
    "preds_unnormed = unnormalise(preds, data_train.min(axis=0), data_train.max(axis=0))\n",
    "preds_unnormed[0]"
   ],
   "metadata": {
    "collapsed": false,
    "pycharm": {
     "name": "#%%\n"
    }
   }
  }
 ],
 "metadata": {
  "kernelspec": {
   "display_name": "Python 3",
   "language": "python",
   "name": "python3"
  },
  "language_info": {
   "codemirror_mode": {
    "name": "ipython",
    "version": 2
   },
   "file_extension": ".py",
   "mimetype": "text/x-python",
   "name": "python",
   "nbconvert_exporter": "python",
   "pygments_lexer": "ipython2",
   "version": "2.7.6"
  }
 },
 "nbformat": 4,
 "nbformat_minor": 0
}
