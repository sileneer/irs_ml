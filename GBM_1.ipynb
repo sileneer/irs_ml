{
 "cells": [
  {
   "cell_type": "code",
   "execution_count": null,
   "outputs": [
    {
     "ename": "NameError",
     "evalue": "name 'GradientBoostingRegressor' is not defined",
     "output_type": "error",
     "traceback": [
      "\u001B[1;31m---------------------------------------------------------------------------\u001B[0m",
      "\u001B[1;31mNameError\u001B[0m                                 Traceback (most recent call last)",
      "Input \u001B[1;32mIn [1]\u001B[0m, in \u001B[0;36m<cell line: 2>\u001B[1;34m()\u001B[0m\n\u001B[0;32m      1\u001B[0m \u001B[38;5;28;01mfrom\u001B[39;00m \u001B[38;5;21;01msklearn\u001B[39;00m\u001B[38;5;21;01m.\u001B[39;00m\u001B[38;5;21;01mmodel_selection\u001B[39;00m \u001B[38;5;28;01mimport\u001B[39;00m GridSearchCV\n\u001B[1;32m----> 2\u001B[0m model\u001B[38;5;241m=\u001B[39m\u001B[43mGradientBoostingRegressor\u001B[49m()\n\u001B[0;32m      3\u001B[0m params\u001B[38;5;241m=\u001B[39m{\u001B[38;5;124m'\u001B[39m\u001B[38;5;124mn_estimators\u001B[39m\u001B[38;5;124m'\u001B[39m:\u001B[38;5;28mrange\u001B[39m(\u001B[38;5;241m1\u001B[39m,\u001B[38;5;241m200\u001B[39m)}\n\u001B[0;32m      4\u001B[0m grid\u001B[38;5;241m=\u001B[39mGridSearchCV(estimator\u001B[38;5;241m=\u001B[39mmodel,cv\u001B[38;5;241m=\u001B[39m\u001B[38;5;241m2\u001B[39m,param_grid\u001B[38;5;241m=\u001B[39mparams,scoring\u001B[38;5;241m=\u001B[39m\u001B[38;5;124m'\u001B[39m\u001B[38;5;124mneg_mean_squared_error\u001B[39m\u001B[38;5;124m'\u001B[39m)\n",
      "\u001B[1;31mNameError\u001B[0m: name 'GradientBoostingRegressor' is not defined"
     ]
    }
   ],
   "source": [
    "from sklearn.model_selection import GridSearchCV\n",
    "model=GradientBoostingRegressor()\n",
    "params={'n_estimators':range(1,200)}\n",
    "grid=GridSearchCV(estimator=model,cv=2,param_grid=params,scoring='neg_mean_squared_error')\n",
    "grid.fit(X,Y)\n",
    "print(\"The best estimator returned by GridSearch CV is:\",grid.best_estimator_)\n",
    "#Output\n",
    "#The best estimator returned by GridSearch CV is:  GradientBoostingRegressor(n_estimators=19)\n",
    "GB=grid.best_estimator_\n",
    "GB.fit(X,Y)\n",
    "Y_predict=GB.predict(X)\n",
    "Y_predict\n",
    "#output:\n",
    "#Y_predict=[27.20639114, 18.98970027, 18.98970027, 46.66697477, 27.20639114,58.34332496, 46.66697477, 58.34332496, 69.58721772]\n",
    "MSE_best=(sum((Y-Y_predict)**2))/len(Y)\n",
    "print('MSE for best estimators :',MSE_best)\n",
    "#Following code is used to find out MSE of prediction for Gradient boosting algorithm with best estimator value given by GridSearchCV\n",
    "#Output: MSE for best estimators : 164.2298548605391"
   ],
   "metadata": {
    "collapsed": false,
    "pycharm": {
     "name": "#%%\n"
    }
   }
  }
 ],
 "metadata": {
  "kernelspec": {
   "display_name": "Python 3",
   "language": "python",
   "name": "python3"
  },
  "language_info": {
   "codemirror_mode": {
    "name": "ipython",
    "version": 2
   },
   "file_extension": ".py",
   "mimetype": "text/x-python",
   "name": "python",
   "nbconvert_exporter": "python",
   "pygments_lexer": "ipython2",
   "version": "2.7.6"
  }
 },
 "nbformat": 4,
 "nbformat_minor": 0
}